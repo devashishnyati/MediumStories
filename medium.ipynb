{
 "cells": [
  {
   "cell_type": "code",
   "execution_count": 1,
   "metadata": {},
   "outputs": [],
   "source": [
    "import pandas as pd\n",
    "import numpy as np"
   ]
  },
  {
   "cell_type": "code",
   "execution_count": 2,
   "metadata": {},
   "outputs": [],
   "source": [
    "df = pd.read_csv('Data/Medium_AggregatedData.csv', sep=',')"
   ]
  },
  {
   "cell_type": "code",
   "execution_count": 3,
   "metadata": {},
   "outputs": [
    {
     "data": {
      "text/plain": [
       "(279577, 50)"
      ]
     },
     "execution_count": 3,
     "metadata": {},
     "output_type": "execute_result"
    }
   ],
   "source": [
    "df.shape"
   ]
  },
  {
   "cell_type": "code",
   "execution_count": 4,
   "metadata": {},
   "outputs": [],
   "source": [
    "df = df[df['language']=='en']"
   ]
  },
  {
   "cell_type": "code",
   "execution_count": 5,
   "metadata": {},
   "outputs": [],
   "source": [
    "df_useful_columns = df.drop(['audioVersionDurationSec', 'codeBlockCount','isSubscriptionLocked','publicationdescription','publicationdomain','publicationfacebookPageName','publicationfollowerCount','publicationname','publicationpublicEmail',\n",
    "                                                              'publicationslug','publicationtags','bio','userId','userName','usersFollowedByCount','usersFollowedCount','scrappedDate','codeBlock', 'publicationtwitterUsername', 'author'], axis=1)"
   ]
  },
  {
   "cell_type": "code",
   "execution_count": 6,
   "metadata": {},
   "outputs": [],
   "source": [
    "df_drop_duplicate = df_useful_columns.drop_duplicates(subset='postId')"
   ]
  },
  {
   "cell_type": "code",
   "execution_count": 7,
   "metadata": {},
   "outputs": [
    {
     "data": {
      "text/html": [
       "<div>\n",
       "<style scoped>\n",
       "    .dataframe tbody tr th:only-of-type {\n",
       "        vertical-align: middle;\n",
       "    }\n",
       "\n",
       "    .dataframe tbody tr th {\n",
       "        vertical-align: top;\n",
       "    }\n",
       "\n",
       "    .dataframe thead th {\n",
       "        text-align: right;\n",
       "    }\n",
       "</style>\n",
       "<table border=\"1\" class=\"dataframe\">\n",
       "  <thead>\n",
       "    <tr style=\"text-align: right;\">\n",
       "      <th></th>\n",
       "      <th>imageCount</th>\n",
       "      <th>linksCount</th>\n",
       "      <th>readingTime</th>\n",
       "      <th>recommends</th>\n",
       "      <th>responsesCreatedCount</th>\n",
       "      <th>socialRecommendsCount</th>\n",
       "      <th>tagsCount</th>\n",
       "      <th>totalClapCount</th>\n",
       "      <th>wordCount</th>\n",
       "      <th>postCount</th>\n",
       "    </tr>\n",
       "  </thead>\n",
       "  <tbody>\n",
       "    <tr>\n",
       "      <th>count</th>\n",
       "      <td>66380.000000</td>\n",
       "      <td>66380.000000</td>\n",
       "      <td>66380.000000</td>\n",
       "      <td>66380.000000</td>\n",
       "      <td>66380.000000</td>\n",
       "      <td>66380.000000</td>\n",
       "      <td>66380.000000</td>\n",
       "      <td>66380.000000</td>\n",
       "      <td>66380.000000</td>\n",
       "      <td>66380.000000</td>\n",
       "    </tr>\n",
       "    <tr>\n",
       "      <th>mean</th>\n",
       "      <td>3.550136</td>\n",
       "      <td>6.606478</td>\n",
       "      <td>3.983713</td>\n",
       "      <td>25.196113</td>\n",
       "      <td>0.902757</td>\n",
       "      <td>0.069931</td>\n",
       "      <td>4.299940</td>\n",
       "      <td>173.135026</td>\n",
       "      <td>922.495089</td>\n",
       "      <td>60063.094908</td>\n",
       "    </tr>\n",
       "    <tr>\n",
       "      <th>std</th>\n",
       "      <td>5.399172</td>\n",
       "      <td>11.746137</td>\n",
       "      <td>3.506808</td>\n",
       "      <td>277.391004</td>\n",
       "      <td>14.940658</td>\n",
       "      <td>0.292918</td>\n",
       "      <td>1.203037</td>\n",
       "      <td>1891.890063</td>\n",
       "      <td>871.067923</td>\n",
       "      <td>61242.502841</td>\n",
       "    </tr>\n",
       "    <tr>\n",
       "      <th>min</th>\n",
       "      <td>0.000000</td>\n",
       "      <td>0.000000</td>\n",
       "      <td>0.003774</td>\n",
       "      <td>0.000000</td>\n",
       "      <td>0.000000</td>\n",
       "      <td>0.000000</td>\n",
       "      <td>1.000000</td>\n",
       "      <td>0.000000</td>\n",
       "      <td>0.000000</td>\n",
       "      <td>0.000000</td>\n",
       "    </tr>\n",
       "    <tr>\n",
       "      <th>25%</th>\n",
       "      <td>1.000000</td>\n",
       "      <td>1.000000</td>\n",
       "      <td>1.920755</td>\n",
       "      <td>0.000000</td>\n",
       "      <td>0.000000</td>\n",
       "      <td>0.000000</td>\n",
       "      <td>4.000000</td>\n",
       "      <td>0.000000</td>\n",
       "      <td>421.000000</td>\n",
       "      <td>30322.000000</td>\n",
       "    </tr>\n",
       "    <tr>\n",
       "      <th>50%</th>\n",
       "      <td>2.000000</td>\n",
       "      <td>4.000000</td>\n",
       "      <td>3.180189</td>\n",
       "      <td>2.000000</td>\n",
       "      <td>0.000000</td>\n",
       "      <td>0.000000</td>\n",
       "      <td>5.000000</td>\n",
       "      <td>6.000000</td>\n",
       "      <td>720.000000</td>\n",
       "      <td>51320.000000</td>\n",
       "    </tr>\n",
       "    <tr>\n",
       "      <th>75%</th>\n",
       "      <td>4.000000</td>\n",
       "      <td>8.000000</td>\n",
       "      <td>5.011557</td>\n",
       "      <td>8.000000</td>\n",
       "      <td>0.000000</td>\n",
       "      <td>0.000000</td>\n",
       "      <td>5.000000</td>\n",
       "      <td>65.000000</td>\n",
       "      <td>1158.000000</td>\n",
       "      <td>66154.000000</td>\n",
       "    </tr>\n",
       "    <tr>\n",
       "      <th>max</th>\n",
       "      <td>263.000000</td>\n",
       "      <td>1180.000000</td>\n",
       "      <td>99.603774</td>\n",
       "      <td>42288.000000</td>\n",
       "      <td>3076.000000</td>\n",
       "      <td>3.000000</td>\n",
       "      <td>6.000000</td>\n",
       "      <td>291706.000000</td>\n",
       "      <td>24964.000000</td>\n",
       "      <td>331914.000000</td>\n",
       "    </tr>\n",
       "  </tbody>\n",
       "</table>\n",
       "</div>"
      ],
      "text/plain": [
       "         imageCount    linksCount   readingTime    recommends  \\\n",
       "count  66380.000000  66380.000000  66380.000000  66380.000000   \n",
       "mean       3.550136      6.606478      3.983713     25.196113   \n",
       "std        5.399172     11.746137      3.506808    277.391004   \n",
       "min        0.000000      0.000000      0.003774      0.000000   \n",
       "25%        1.000000      1.000000      1.920755      0.000000   \n",
       "50%        2.000000      4.000000      3.180189      2.000000   \n",
       "75%        4.000000      8.000000      5.011557      8.000000   \n",
       "max      263.000000   1180.000000     99.603774  42288.000000   \n",
       "\n",
       "       responsesCreatedCount  socialRecommendsCount     tagsCount  \\\n",
       "count           66380.000000           66380.000000  66380.000000   \n",
       "mean                0.902757               0.069931      4.299940   \n",
       "std                14.940658               0.292918      1.203037   \n",
       "min                 0.000000               0.000000      1.000000   \n",
       "25%                 0.000000               0.000000      4.000000   \n",
       "50%                 0.000000               0.000000      5.000000   \n",
       "75%                 0.000000               0.000000      5.000000   \n",
       "max              3076.000000               3.000000      6.000000   \n",
       "\n",
       "       totalClapCount     wordCount      postCount  \n",
       "count    66380.000000  66380.000000   66380.000000  \n",
       "mean       173.135026    922.495089   60063.094908  \n",
       "std       1891.890063    871.067923   61242.502841  \n",
       "min          0.000000      0.000000       0.000000  \n",
       "25%          0.000000    421.000000   30322.000000  \n",
       "50%          6.000000    720.000000   51320.000000  \n",
       "75%         65.000000   1158.000000   66154.000000  \n",
       "max     291706.000000  24964.000000  331914.000000  "
      ]
     },
     "execution_count": 7,
     "metadata": {},
     "output_type": "execute_result"
    }
   ],
   "source": [
    "df_drop_duplicate.describe()"
   ]
  },
  {
   "cell_type": "code",
   "execution_count": 8,
   "metadata": {},
   "outputs": [],
   "source": [
    "df_drop_duplicate.to_csv('Data/dropduplicate.csv', sep=',')"
   ]
  },
  {
   "cell_type": "code",
   "execution_count": 8,
   "metadata": {},
   "outputs": [],
   "source": [
    "df_dummy = df_drop_duplicate.head(3)"
   ]
  },
  {
   "cell_type": "code",
   "execution_count": 9,
   "metadata": {},
   "outputs": [
    {
     "data": {
      "text/html": [
       "<div>\n",
       "<style scoped>\n",
       "    .dataframe tbody tr th:only-of-type {\n",
       "        vertical-align: middle;\n",
       "    }\n",
       "\n",
       "    .dataframe tbody tr th {\n",
       "        vertical-align: top;\n",
       "    }\n",
       "\n",
       "    .dataframe thead th {\n",
       "        text-align: right;\n",
       "    }\n",
       "</style>\n",
       "<table border=\"1\" class=\"dataframe\">\n",
       "  <thead>\n",
       "    <tr style=\"text-align: right;\">\n",
       "      <th></th>\n",
       "      <th>collectionId</th>\n",
       "      <th>createdDate</th>\n",
       "      <th>createdDatetime</th>\n",
       "      <th>firstPublishedDate</th>\n",
       "      <th>firstPublishedDatetime</th>\n",
       "      <th>imageCount</th>\n",
       "      <th>language</th>\n",
       "      <th>latestPublishedDate</th>\n",
       "      <th>latestPublishedDatetime</th>\n",
       "      <th>linksCount</th>\n",
       "      <th>...</th>\n",
       "      <th>uniqueSlug</th>\n",
       "      <th>updatedDate</th>\n",
       "      <th>updatedDatetime</th>\n",
       "      <th>url</th>\n",
       "      <th>vote</th>\n",
       "      <th>wordCount</th>\n",
       "      <th>tag_name</th>\n",
       "      <th>slug</th>\n",
       "      <th>name</th>\n",
       "      <th>postCount</th>\n",
       "    </tr>\n",
       "  </thead>\n",
       "  <tbody>\n",
       "    <tr>\n",
       "      <th>0</th>\n",
       "      <td>638f418c8464</td>\n",
       "      <td>2018-09-18</td>\n",
       "      <td>2018-09-18 20:55:34</td>\n",
       "      <td>2018-09-18</td>\n",
       "      <td>2018-09-18 20:57:03</td>\n",
       "      <td>1</td>\n",
       "      <td>en</td>\n",
       "      <td>2018-09-18</td>\n",
       "      <td>2018-09-18 20:58:20</td>\n",
       "      <td>1</td>\n",
       "      <td>...</td>\n",
       "      <td>private-business-government-and-blockchain-100...</td>\n",
       "      <td>2018-09-18</td>\n",
       "      <td>2018-09-18 20:58:20</td>\n",
       "      <td>https://medium.com/s/story/private-business-go...</td>\n",
       "      <td>False</td>\n",
       "      <td>201</td>\n",
       "      <td>Blockchain</td>\n",
       "      <td>blockchain</td>\n",
       "      <td>Blockchain</td>\n",
       "      <td>265164.0</td>\n",
       "    </tr>\n",
       "    <tr>\n",
       "      <th>3</th>\n",
       "      <td>NaN</td>\n",
       "      <td>2018-01-07</td>\n",
       "      <td>2018-01-07 17:04:37</td>\n",
       "      <td>2018-01-07</td>\n",
       "      <td>2018-01-07 17:06:29</td>\n",
       "      <td>13</td>\n",
       "      <td>en</td>\n",
       "      <td>2018-01-07</td>\n",
       "      <td>2018-01-07 17:18:38</td>\n",
       "      <td>24</td>\n",
       "      <td>...</td>\n",
       "      <td>introduction-3-1000c43bcb97</td>\n",
       "      <td>2018-01-07</td>\n",
       "      <td>2018-01-07 17:18:39</td>\n",
       "      <td>https://medium.com/s/story/introduction-3-1000...</td>\n",
       "      <td>False</td>\n",
       "      <td>4854</td>\n",
       "      <td>Technology</td>\n",
       "      <td>technology</td>\n",
       "      <td>Technology</td>\n",
       "      <td>166125.0</td>\n",
       "    </tr>\n",
       "    <tr>\n",
       "      <th>7</th>\n",
       "      <td>NaN</td>\n",
       "      <td>2018-03-08</td>\n",
       "      <td>2018-03-08 07:04:31</td>\n",
       "      <td>2018-03-08</td>\n",
       "      <td>2018-03-08 07:07:42</td>\n",
       "      <td>1</td>\n",
       "      <td>en</td>\n",
       "      <td>2018-03-08</td>\n",
       "      <td>2018-03-08 07:07:42</td>\n",
       "      <td>3</td>\n",
       "      <td>...</td>\n",
       "      <td>ascent-of-data-science-sas-and-big-data-analys...</td>\n",
       "      <td>2018-03-08</td>\n",
       "      <td>2018-03-08 07:07:42</td>\n",
       "      <td>https://medium.com/s/story/ascent-of-data-scie...</td>\n",
       "      <td>False</td>\n",
       "      <td>533</td>\n",
       "      <td>Data Science</td>\n",
       "      <td>data-science</td>\n",
       "      <td>Data Science</td>\n",
       "      <td>33617.0</td>\n",
       "    </tr>\n",
       "  </tbody>\n",
       "</table>\n",
       "<p>3 rows × 30 columns</p>\n",
       "</div>"
      ],
      "text/plain": [
       "   collectionId createdDate      createdDatetime firstPublishedDate  \\\n",
       "0  638f418c8464  2018-09-18  2018-09-18 20:55:34         2018-09-18   \n",
       "3           NaN  2018-01-07  2018-01-07 17:04:37         2018-01-07   \n",
       "7           NaN  2018-03-08  2018-03-08 07:04:31         2018-03-08   \n",
       "\n",
       "  firstPublishedDatetime  imageCount language latestPublishedDate  \\\n",
       "0    2018-09-18 20:57:03           1       en          2018-09-18   \n",
       "3    2018-01-07 17:06:29          13       en          2018-01-07   \n",
       "7    2018-03-08 07:07:42           1       en          2018-03-08   \n",
       "\n",
       "  latestPublishedDatetime  linksCount    ...      \\\n",
       "0     2018-09-18 20:58:20           1    ...       \n",
       "3     2018-01-07 17:18:38          24    ...       \n",
       "7     2018-03-08 07:07:42           3    ...       \n",
       "\n",
       "                                          uniqueSlug  updatedDate  \\\n",
       "0  private-business-government-and-blockchain-100...   2018-09-18   \n",
       "3                        introduction-3-1000c43bcb97   2018-01-07   \n",
       "7  ascent-of-data-science-sas-and-big-data-analys...   2018-03-08   \n",
       "\n",
       "       updatedDatetime                                                url  \\\n",
       "0  2018-09-18 20:58:20  https://medium.com/s/story/private-business-go...   \n",
       "3  2018-01-07 17:18:39  https://medium.com/s/story/introduction-3-1000...   \n",
       "7  2018-03-08 07:07:42  https://medium.com/s/story/ascent-of-data-scie...   \n",
       "\n",
       "    vote wordCount      tag_name          slug          name  postCount  \n",
       "0  False       201    Blockchain    blockchain    Blockchain   265164.0  \n",
       "3  False      4854    Technology    technology    Technology   166125.0  \n",
       "7  False       533  Data Science  data-science  Data Science    33617.0  \n",
       "\n",
       "[3 rows x 30 columns]"
      ]
     },
     "execution_count": 9,
     "metadata": {},
     "output_type": "execute_result"
    }
   ],
   "source": [
    "df_dummy"
   ]
  },
  {
   "cell_type": "code",
   "execution_count": 11,
   "metadata": {},
   "outputs": [],
   "source": [
    "df_dummy.to_csv('Data/shortdummy.csv',sep=',')"
   ]
  },
  {
   "cell_type": "code",
   "execution_count": 114,
   "metadata": {},
   "outputs": [],
   "source": [
    "tag = df_useful_columns.groupby('tag_name').size().sort_values(ascending=False)[:10]\n",
    "top = list(tag.index)\n",
    "value = list(tag.values)"
   ]
  },
  {
   "cell_type": "code",
   "execution_count": 115,
   "metadata": {},
   "outputs": [],
   "source": [
    "import matplotlib.pyplot as plt\n",
    "import seaborn as sns"
   ]
  },
  {
   "cell_type": "code",
   "execution_count": 116,
   "metadata": {},
   "outputs": [
    {
     "data": {
      "image/png": "[encoded data removed]",
      "text/plain": [
       "<Figure size 432x288 with 1 Axes>"
      ]
     },
     "metadata": {},
     "output_type": "display_data"
    }
   ],
   "source": [
    "plt.pie(value, labels=top)\n",
    "plt.axis('equal')\n",
    "plt.show()"
   ]
  },
  {
   "cell_type": "code",
   "execution_count": 15,
   "metadata": {},
   "outputs": [
    {
     "data": {
      "text/plain": [
       "tag_name\n",
       "Artificial Intelligence      32824\n",
       "Machine Learning             27383\n",
       "Data Science                 16689\n",
       "Deep Learning                 6194\n",
       "Technology                    6163\n",
       "Blockchain                    4801\n",
       "Python                        3075\n",
       "Big Data                      2670\n",
       "Tech                          2599\n",
       "Chatbots                      2515\n",
       "Startup                       2419\n",
       "Data                          2050\n",
       "Neural Networks               2049\n",
       "Cryptocurrency                1879\n",
       "Data Visualization            1549\n",
       "Analytics                     1487\n",
       "Robotics                      1451\n",
       "Bots                          1411\n",
       "Data Analysis                 1372\n",
       "Programming                   1334\n",
       "Future                        1277\n",
       "Business                      1145\n",
       "Automation                    1053\n",
       "Statistics                    1051\n",
       "Marketing                     1037\n",
       "Education                     1000\n",
       "Computer Vision                991\n",
       "Innovation                     987\n",
       "Healthcare                     973\n",
       "Google                         925\n",
       "                             ...  \n",
       "Maxilect                         1\n",
       "Maxcompute                       1\n",
       "Max Tegmark                      1\n",
       "Mavenlink                        1\n",
       "Mdm                              1\n",
       "Mean Absolute Per Er Mape        1\n",
       "Medical Conference               1\n",
       "Mean Reversion Strategies        1\n",
       "Medical Coding Company           1\n",
       "Medical Ai                       1\n",
       "Mediator                         1\n",
       "Mediatech                        1\n",
       "Medialab                         1\n",
       "Mediaferry                       1\n",
       "Media Trial                      1\n",
       "Media Studies                    1\n",
       "Media Strategy                   1\n",
       "Media Quality                    1\n",
       "Media Measurement                1\n",
       "Media Analysis                   1\n",
       "Mechatronics                     1\n",
       "Mechanism Design Intro           1\n",
       "Measures Of Dispersion           1\n",
       "Measurement Uncertainty          1\n",
       "Meaningful Work                  1\n",
       "Meaning Of Data Science          1\n",
       "Mean Variance Sd                 1\n",
       "Mean Squared Perc Er Mspe        1\n",
       "Mean Squared Error               1\n",
       "10 Artificial Developers         1\n",
       "Length: 17049, dtype: int64"
      ]
     },
     "execution_count": 15,
     "metadata": {},
     "output_type": "execute_result"
    }
   ],
   "source": [
    "(tag)"
   ]
  },
  {
   "cell_type": "code",
   "execution_count": 16,
   "metadata": {},
   "outputs": [],
   "source": [
    "df[df['postId']=='100139913e4c'].to_csv('Data/same2.csv',sep=',')"
   ]
  },
  {
   "cell_type": "code",
   "execution_count": 17,
   "metadata": {},
   "outputs": [],
   "source": [
    "from wordcloud import WordCloud\n",
    "from wordcloud import STOPWORDS"
   ]
  },
  {
   "cell_type": "code",
   "execution_count": 18,
   "metadata": {},
   "outputs": [],
   "source": [
    "text = \"\"\n",
    "for ind, row in df_drop_duplicate.iterrows():\n",
    "    text += str(row[\"title\"]) + \" \"\n",
    "text = text.strip()"
   ]
  },
  {
   "cell_type": "code",
   "execution_count": 19,
   "metadata": {},
   "outputs": [
    {
     "data": {
      "image/png": "[encoded data removed]",
      "text/plain": [
       "<Figure size 720x576 with 1 Axes>"
      ]
     },
     "metadata": {},
     "output_type": "display_data"
    }
   ],
   "source": [
    "plt.figure(figsize=(10,8))\n",
    "wordcloud = WordCloud(background_color='white', width=600, height=300, max_font_size=100, max_words=40).generate(text)\n",
    "plt.imshow(wordcloud)\n",
    "plt.axis(\"off\")\n",
    "plt.show()"
   ]
  },
  {
   "cell_type": "code",
   "execution_count": null,
   "metadata": {},
   "outputs": [],
   "source": []
  },
  {
   "cell_type": "code",
   "execution_count": 20,
   "metadata": {},
   "outputs": [],
   "source": [
    "df_test = df_drop_duplicate[df_drop_duplicate['totalClapCount']!=0]"
   ]
  },
  {
   "cell_type": "code",
   "execution_count": 21,
   "metadata": {},
   "outputs": [],
   "source": [
    "df_new = df_test.groupby('totalClapCount').size()"
   ]
  },
  {
   "cell_type": "code",
   "execution_count": 22,
   "metadata": {},
   "outputs": [
    {
     "name": "stderr",
     "output_type": "stream",
     "text": [
      "/Users/devashish/anaconda3/lib/python3.6/site-packages/scipy/stats/stats.py:1713: FutureWarning: Using a non-tuple sequence for multidimensional indexing is deprecated; use `arr[tuple(seq)]` instead of `arr[seq]`. In the future this will be interpreted as an array index, `arr[np.array(seq)]`, which will result either in an error or a different result.\n",
      "  return np.add.reduce(sorted[indexer] * weights, axis=axis) / sumval\n",
      "/Users/devashish/anaconda3/lib/python3.6/site-packages/matplotlib/axes/_axes.py:6462: UserWarning: The 'normed' kwarg is deprecated, and has been replaced by the 'density' kwarg.\n",
      "  warnings.warn(\"The 'normed' kwarg is deprecated, and has been \"\n"
     ]
    },
    {
     "data": {
      "text/plain": [
       "<matplotlib.axes._subplots.AxesSubplot at 0x1a483f2b38>"
      ]
     },
     "execution_count": 22,
     "metadata": {},
     "output_type": "execute_result"
    },
    {
     "data": {
      "image/png": "[encoded data removed]",
      "text/plain": [
       "<Figure size 432x288 with 1 Axes>"
      ]
     },
     "metadata": {},
     "output_type": "display_data"
    }
   ],
   "source": [
    "sns.distplot(df_test['totalClapCount'])"
   ]
  },
  {
   "cell_type": "code",
   "execution_count": 23,
   "metadata": {},
   "outputs": [
    {
     "data": {
      "text/plain": [
       "totalClapCount\n",
       "1         5707\n",
       "2         2410\n",
       "3         1677\n",
       "4         1092\n",
       "5         1125\n",
       "6          859\n",
       "7          697\n",
       "8          571\n",
       "9          538\n",
       "10         805\n",
       "11         628\n",
       "12         512\n",
       "13         456\n",
       "14         372\n",
       "15         446\n",
       "16         368\n",
       "17         338\n",
       "18         335\n",
       "19         245\n",
       "20         363\n",
       "21         320\n",
       "22         287\n",
       "23         266\n",
       "24         217\n",
       "25         248\n",
       "26         237\n",
       "27         205\n",
       "28         185\n",
       "29         185\n",
       "30         236\n",
       "          ... \n",
       "30696        1\n",
       "30749        1\n",
       "32693        1\n",
       "33098        1\n",
       "33856        1\n",
       "35046        1\n",
       "35192        1\n",
       "35232        1\n",
       "35861        1\n",
       "36504        1\n",
       "38255        1\n",
       "38688        1\n",
       "39376        1\n",
       "39977        1\n",
       "41280        1\n",
       "42710        1\n",
       "44713        1\n",
       "46233        1\n",
       "46490        1\n",
       "47445        1\n",
       "47953        1\n",
       "49838        1\n",
       "53707        1\n",
       "58673        1\n",
       "67949        1\n",
       "79766        1\n",
       "80886        1\n",
       "112595       1\n",
       "200357       1\n",
       "291706       1\n",
       "Length: 2300, dtype: int64"
      ]
     },
     "execution_count": 23,
     "metadata": {},
     "output_type": "execute_result"
    }
   ],
   "source": [
    "df_new"
   ]
  },
  {
   "cell_type": "code",
   "execution_count": 32,
   "metadata": {},
   "outputs": [
    {
     "data": {
      "text/plain": [
       "0         Private Business, Government and Blockchain\\n\\...\n",
       "3         EPQ draft 1 (4844 words)\\nhttps://upload.wikim...\n",
       "7         Ascent of data Science, SAS and Big data Analy...\n",
       "11        Can a robot love us better than another human ...\n",
       "16        2017 Big Data, AI and IOT Use Cases\\nAn Active...\n",
       "25        Artificial Intelligence is the Next Frontier\\n...\n",
       "26        Aidoc Gets CE Mark for Deep Learning Solution\\...\n",
       "31        Ai and it’s impact on the world\\n\\n\\nActually ...\n",
       "32        The Meta Model and Meta Meta-Model of Deep Lea...\n",
       "36        Top 10 Tips for the Data Science Team To Succe...\n",
       "39        Don’t trust “Do you trust this computer”\\nfrom...\n",
       "44        The Cultural Revolution: Robots and Trust\\n\\nI...\n",
       "49        A Little Snippet to Automate Web Scraping usin...\n",
       "54        \\nProduct Release Wrap-up July\\nOur new Unleas...\n",
       "57        AI Saturdays by AiDevNepal : A Review from par...\n",
       "58        Is the age of theory over as Machine Learning ...\n",
       "61        AI based UI Development (AI-UI)\\nArtificial In...\n",
       "65        Grow your learning @ incentivetheory.com\\nCan ...\n",
       "70        Session “Ask About: AI and Diagnosis” at the A...\n",
       "75        A Historic Phase Change in the Way We Build Th...\n",
       "80        Five tech trends that shaped 2017\\n“The histor...\n",
       "85        Vectorized implementation of back-propagation\\...\n",
       "89        Building Smarter Businesses With Cognitive Ser...\n",
       "93        Best Practices for Custom Models in Watson Vis...\n",
       "96        To perform like Magnus… relax like Magnus?\\nMa...\n",
       "101       Installing JupyterLab\\nI encountered JupyterLa...\n",
       "103       Making the Switch\\nThe Painstakingly Slow Begi...\n",
       "108       How Can AI and Predictive Analytics Enhance Yo...\n",
       "113       August 2018 Update\\nHello everyone!\\nIt’s Tim ...\n",
       "117       The Sapien Zoo\\nA short fiction story about fu...\n",
       "                                ...                        \n",
       "279433    UC Berkeley’s Overmind winning the first StarC...\n",
       "279438    AI, Jordan Peterson’s Fight Club and the Alt-R...\n",
       "279443    How to extract images from Google.\\nLearn how ...\n",
       "279448    Creating your AI projects on Kaggle\\nWe’re bui...\n",
       "279453    Simple Continuous Query Processing for Real-ti...\n",
       "279458    Self Organizing Maps\\nRecently, I learned abou...\n",
       "279463    How we created a chat bot for our customer sup...\n",
       "279467    Data Science Education Lags Behind in Diversit...\n",
       "279472    Deep Learning on Car Simulator\\nCode for this ...\n",
       "279476    Data Science, Neuroscience, and Medical Device...\n",
       "279481    Rise of the Machines\\n\\nWe don’t know the exac...\n",
       "279485    Machine Learnings — Creepy AI surveillance, St...\n",
       "279490    How to Use AI to Delight Your Customers and Im...\n",
       "279495    Hinton’s Prayer\\nOur father who art in n-dimen...\n",
       "279500    Could AI compromise better than humans?\\nFaceb...\n",
       "279505    Food(ie) for Thought: Using NLP to find famili...\n",
       "279509    Fraud Detection in Fintech, Healthcare, and eC...\n",
       "279514    MLiterature: Regression Evaluations (R squared...\n",
       "279519    Learning Data Science? Make the most of your l...\n",
       "279524    Generating Large, Synthetic, Annotated, & Phot...\n",
       "279529    How to Create Chatbots: Building Blocks and Mi...\n",
       "279533    Digitizing and cataloging the Boekentoren (Boo...\n",
       "279538    Why Blockchain Liquidity is a Bad Thing…\\nAs a...\n",
       "279542    Reality Check: Is Cloudera really a “leader” i...\n",
       "279547    Principal Component Analysis : Dimensionality ...\n",
       "279552    On UC Berkeley MIDS Immersion — Fall 2017\\nBy ...\n",
       "279557    Analyzing extreme skiing and snowboarding in R...\n",
       "279567    How to Build a Smart Chatbot Assistant with Ch...\n",
       "279570    ggrepel — When Things Get Too Crowded\\nSometim...\n",
       "279572    London Creates Ethics Panel to Evaluate Use of...\n",
       "Name: text, Length: 66380, dtype: object"
      ]
     },
     "execution_count": 32,
     "metadata": {},
     "output_type": "execute_result"
    }
   ],
   "source": [
    "df_drop_duplicate['text']"
   ]
  },
  {
   "cell_type": "code",
   "execution_count": 33,
   "metadata": {},
   "outputs": [],
   "source": [
    "df_drop_duplicate['text'].to_csv('train.txt', index=False)"
   ]
  },
  {
   "cell_type": "code",
   "execution_count": 10,
   "metadata": {},
   "outputs": [
    {
     "name": "stderr",
     "output_type": "stream",
     "text": [
      "/Users/devashish/anaconda3/lib/python3.6/site-packages/h5py/__init__.py:36: FutureWarning: Conversion of the second argument of issubdtype from `float` to `np.floating` is deprecated. In future, it will be treated as `np.float64 == np.dtype(float).type`.\n",
      "  from ._conv import register_converters as _register_converters\n",
      "Using TensorFlow backend.\n"
     ]
    }
   ],
   "source": [
    "import numpy as np\n",
    "np.random.seed(42)\n",
    "import tensorflow as tf\n",
    "tf.set_random_seed(42)\n",
    "from keras.models import Sequential, load_model\n",
    "from keras.layers import Dense, Activation\n",
    "from keras.layers import LSTM, Dropout\n",
    "from keras.layers import TimeDistributed\n",
    "from keras.layers.core import Dense, Activation, Dropout, RepeatVector\n",
    "from keras.optimizers import RMSprop\n",
    "import matplotlib.pyplot as plt\n",
    "import pickle\n",
    "import sys\n",
    "import heapq\n",
    "import seaborn as sns\n",
    "from pylab import rcParams\n",
    "\n",
    "%matplotlib inline\n",
    "\n",
    "sns.set(style='whitegrid', palette='muted', font_scale=1.5)\n",
    "\n",
    "rcParams['figure.figsize'] = 12, 5"
   ]
  },
  {
   "cell_type": "code",
   "execution_count": 11,
   "metadata": {},
   "outputs": [
    {
     "name": "stdout",
     "output_type": "stream",
     "text": [
      "corpus length: 368321007\n"
     ]
    }
   ],
   "source": [
    "path = 'train.txt'\n",
    "text = open(path).read().lower()\n",
    "print('corpus length:', len(text))"
   ]
  },
  {
   "cell_type": "code",
   "execution_count": 12,
   "metadata": {},
   "outputs": [],
   "source": [
    "text = text[:1000000]"
   ]
  },
  {
   "cell_type": "code",
   "execution_count": 13,
   "metadata": {},
   "outputs": [
    {
     "name": "stdout",
     "output_type": "stream",
     "text": [
      "unique chars: 161\n"
     ]
    }
   ],
   "source": [
    "chars = sorted(list(set(text)))\n",
    "char_indices = dict((c, i) for i, c in enumerate(chars))\n",
    "indices_char = dict((i, c) for i, c in enumerate(chars))\n",
    "\n",
    "print(f'unique chars: {len(chars)}')"
   ]
  },
  {
   "cell_type": "code",
   "execution_count": 14,
   "metadata": {},
   "outputs": [
    {
     "name": "stdout",
     "output_type": "stream",
     "text": [
      "num training examples: 333320\n"
     ]
    }
   ],
   "source": [
    "SEQUENCE_LENGTH = 40\n",
    "step = 3\n",
    "sentences = []\n",
    "next_chars = []\n",
    "for i in range(0, len(text) - SEQUENCE_LENGTH, step):\n",
    "    sentences.append(text[i: i + SEQUENCE_LENGTH])\n",
    "    next_chars.append(text[i + SEQUENCE_LENGTH])\n",
    "print(f'num training examples: {len(sentences)}')"
   ]
  },
  {
   "cell_type": "code",
   "execution_count": 15,
   "metadata": {},
   "outputs": [
    {
     "data": {
      "text/plain": [
       "'ide to use it in their work and conclude'"
      ]
     },
     "execution_count": 15,
     "metadata": {},
     "output_type": "execute_result"
    }
   ],
   "source": [
    "sentences[100]"
   ]
  },
  {
   "cell_type": "code",
   "execution_count": 16,
   "metadata": {},
   "outputs": [
    {
     "data": {
      "text/plain": [
       "' '"
      ]
     },
     "execution_count": 16,
     "metadata": {},
     "output_type": "execute_result"
    }
   ],
   "source": [
    "next_chars[100]"
   ]
  },
  {
   "cell_type": "code",
   "execution_count": 17,
   "metadata": {},
   "outputs": [],
   "source": [
    "X = np.zeros((len(sentences), SEQUENCE_LENGTH, len(chars)), dtype=np.bool)\n",
    "y = np.zeros((len(sentences), len(chars)), dtype=np.bool)\n",
    "for i, sentence in enumerate(sentences):\n",
    "    for t, char in enumerate(sentence):\n",
    "        X[i, t, char_indices[char]] = 1\n",
    "    y[i, char_indices[next_chars[i]]] = 1"
   ]
  },
  {
   "cell_type": "code",
   "execution_count": 56,
   "metadata": {},
   "outputs": [
    {
     "data": {
      "text/plain": [
       "array([False, False, False, False,  True, False, False, False, False,\n",
       "       False, False, False, False, False, False, False, False, False,\n",
       "       False, False, False, False, False, False, False, False, False,\n",
       "       False, False, False, False, False, False, False, False, False,\n",
       "       False, False, False, False, False, False, False, False, False,\n",
       "       False, False, False, False, False, False, False, False, False,\n",
       "       False, False, False, False, False, False, False, False, False,\n",
       "       False, False, False, False, False, False, False, False, False,\n",
       "       False, False, False, False, False, False, False, False, False,\n",
       "       False, False, False, False, False, False, False, False, False,\n",
       "       False, False, False, False, False, False, False, False, False,\n",
       "       False, False, False, False, False, False, False, False, False,\n",
       "       False, False, False, False, False, False, False, False, False,\n",
       "       False, False, False, False, False, False, False, False, False,\n",
       "       False, False, False, False, False, False, False, False, False,\n",
       "       False, False, False, False, False, False, False, False, False,\n",
       "       False, False, False, False, False, False, False, False, False,\n",
       "       False, False, False, False, False, False, False, False])"
      ]
     },
     "execution_count": 56,
     "metadata": {},
     "output_type": "execute_result"
    }
   ],
   "source": [
    "X[0][0]"
   ]
  },
  {
   "cell_type": "code",
   "execution_count": 57,
   "metadata": {},
   "outputs": [
    {
     "data": {
      "text/plain": [
       "array([False, False, False, False, False, False, False, False, False,\n",
       "       False, False, False, False, False, False, False, False, False,\n",
       "       False, False, False, False, False, False, False, False, False,\n",
       "       False, False, False, False, False, False, False, False, False,\n",
       "       False, False, False, False, False, False, False, False, False,\n",
       "       False, False,  True, False, False, False, False, False, False,\n",
       "       False, False, False, False, False, False, False, False, False,\n",
       "       False, False, False, False, False, False, False, False, False,\n",
       "       False, False, False, False, False, False, False, False, False,\n",
       "       False, False, False, False, False, False, False, False, False,\n",
       "       False, False, False, False, False, False, False, False, False,\n",
       "       False, False, False, False, False, False, False, False, False,\n",
       "       False, False, False, False, False, False, False, False, False,\n",
       "       False, False, False, False, False, False, False, False, False,\n",
       "       False, False, False, False, False, False, False, False, False,\n",
       "       False, False, False, False, False, False, False, False, False,\n",
       "       False, False, False, False, False, False, False, False, False,\n",
       "       False, False, False, False, False, False, False, False])"
      ]
     },
     "execution_count": 57,
     "metadata": {},
     "output_type": "execute_result"
    }
   ],
   "source": [
    "y[0]"
   ]
  },
  {
   "cell_type": "code",
   "execution_count": 58,
   "metadata": {},
   "outputs": [],
   "source": [
    "model = Sequential()\n",
    "model.add(LSTM(128, input_shape=(SEQUENCE_LENGTH, len(chars))))\n",
    "model.add(Dense(len(chars)))\n",
    "model.add(Activation('softmax'))"
   ]
  },
  {
   "cell_type": "code",
   "execution_count": 60,
   "metadata": {},
   "outputs": [
    {
     "name": "stdout",
     "output_type": "stream",
     "text": [
      "Train on 316654 samples, validate on 16666 samples\n",
      "Epoch 1/5\n",
      "316654/316654 [==============================] - 420s 1ms/step - loss: 1.4760 - acc: 0.5669 - val_loss: 1.6071 - val_acc: 0.5457\n",
      "Epoch 2/5\n",
      "316654/316654 [==============================] - 393s 1ms/step - loss: 1.4650 - acc: 0.5698 - val_loss: 1.6012 - val_acc: 0.5461\n",
      "Epoch 3/5\n",
      "316654/316654 [==============================] - 381s 1ms/step - loss: 1.4577 - acc: 0.5718 - val_loss: 1.5940 - val_acc: 0.5503\n",
      "Epoch 4/5\n",
      "316654/316654 [==============================] - 380s 1ms/step - loss: 1.4509 - acc: 0.5739 - val_loss: 1.5968 - val_acc: 0.5502\n",
      "Epoch 5/5\n",
      "316654/316654 [==============================] - 365s 1ms/step - loss: 1.4454 - acc: 0.5751 - val_loss: 1.5965 - val_acc: 0.5521\n"
     ]
    }
   ],
   "source": [
    "optimizer = RMSprop(lr=0.01)\n",
    "model.compile(loss='categorical_crossentropy', optimizer=optimizer, metrics=['accuracy'])\n",
    "history = model.fit(X, y, validation_split=0.05, batch_size=128, epochs=5, shuffle=True).history"
   ]
  },
  {
   "cell_type": "code",
   "execution_count": 61,
   "metadata": {},
   "outputs": [],
   "source": [
    "model.save('rnn.h5')\n",
    "pickle.dump(history, open(\"history.p\", \"wb\"))"
   ]
  },
  {
   "cell_type": "code",
   "execution_count": 62,
   "metadata": {},
   "outputs": [
    {
     "data": {
      "image/png": "[encoded data removed]",
      "text/plain": [
       "<Figure size 432x288 with 1 Axes>"
      ]
     },
     "metadata": {},
     "output_type": "display_data"
    }
   ],
   "source": [
    "plt.plot(history['acc'])\n",
    "plt.plot(history['val_acc'])\n",
    "plt.title('model accuracy')\n",
    "plt.ylabel('accuracy')\n",
    "plt.xlabel('epoch')\n",
    "plt.legend(['train', 'test'], loc='upper left');"
   ]
  },
  {
   "cell_type": "code",
   "execution_count": 63,
   "metadata": {},
   "outputs": [
    {
     "data": {
      "image/png": "[encoded data removed]",
      "text/plain": [
       "<Figure size 432x288 with 1 Axes>"
      ]
     },
     "metadata": {},
     "output_type": "display_data"
    }
   ],
   "source": [
    "plt.plot(history['loss'])\n",
    "plt.plot(history['val_loss'])\n",
    "plt.title('model loss')\n",
    "plt.ylabel('loss')\n",
    "plt.xlabel('epoch')\n",
    "plt.legend(['train', 'test'], loc='upper left');"
   ]
  },
  {
   "cell_type": "code",
   "execution_count": 27,
   "metadata": {},
   "outputs": [],
   "source": [
    "def prepare_input(text):\n",
    "    x = np.zeros((1, SEQUENCE_LENGTH, len(chars)))\n",
    "    for t, char in enumerate(text):\n",
    "        x[0, t, char_indices[char]] = 1.\n",
    "        \n",
    "    return x"
   ]
  },
  {
   "cell_type": "code",
   "execution_count": 65,
   "metadata": {},
   "outputs": [
    {
     "data": {
      "text/plain": [
       "array([[[0., 0., 0., ..., 0., 0., 0.],\n",
       "        [0., 0., 0., ..., 0., 0., 0.],\n",
       "        [0., 0., 0., ..., 0., 0., 0.],\n",
       "        ...,\n",
       "        [0., 0., 0., ..., 0., 0., 0.],\n",
       "        [0., 0., 0., ..., 0., 0., 0.],\n",
       "        [0., 0., 0., ..., 0., 0., 0.]]])"
      ]
     },
     "execution_count": 65,
     "metadata": {},
     "output_type": "execute_result"
    }
   ],
   "source": [
    "prepare_input(\"This is an example of input for our LSTM\".lower())"
   ]
  },
  {
   "cell_type": "code",
   "execution_count": 23,
   "metadata": {},
   "outputs": [],
   "source": [
    "def sample(preds, top_n=3):\n",
    "    preds = np.asarray(preds).astype('float64')\n",
    "    preds = np.log(preds)\n",
    "    exp_preds = np.exp(preds)\n",
    "    preds = exp_preds / np.sum(exp_preds)\n",
    "    \n",
    "    return heapq.nlargest(top_n, range(len(preds)), preds.take)"
   ]
  },
  {
   "cell_type": "code",
   "execution_count": 24,
   "metadata": {},
   "outputs": [],
   "source": [
    "def predict_completion(text):\n",
    "    original_text = text\n",
    "    generated = text\n",
    "    completion = ''\n",
    "    while True:\n",
    "        x = prepare_input(text)\n",
    "        preds = model.predict(x, verbose=0)[0]\n",
    "        next_index = sample(preds, top_n=1)[0]\n",
    "        next_char = indices_char[next_index]\n",
    "        text = text[1:] + next_char\n",
    "        completion += next_char\n",
    "        \n",
    "        if len(original_text + completion) + 2 > len(original_text) and next_char == ' ':\n",
    "            return completion"
   ]
  },
  {
   "cell_type": "code",
   "execution_count": 25,
   "metadata": {},
   "outputs": [],
   "source": [
    "def predict_completions(text, n=3):\n",
    "    x = prepare_input(text)\n",
    "    preds = model.predict(x, verbose=0)[0]\n",
    "    next_indices = sample(preds, n)\n",
    "    return [indices_char[idx] + predict_completion(text[1:] + indices_char[idx]) for idx in next_indices]"
   ]
  },
  {
   "cell_type": "code",
   "execution_count": 95,
   "metadata": {},
   "outputs": [],
   "source": [
    "quotes = ['A major private IT company implements blockchain, artificial intelligence, and Internet of Things t',\n",
    "         'Thus legalized robots will irrefutably damage the sex trade',\n",
    "         'Since the launch of the Watson Visual Recognition API',\n",
    "         'Hi I am Devashish and I am a Data Scientist']"
   ]
  },
  {
   "cell_type": "code",
   "execution_count": 96,
   "metadata": {},
   "outputs": [
    {
     "name": "stdout",
     "output_type": "stream",
     "text": [
      "a major private it company implements bl\n",
      "['ockchain ', 'ack ', 'epling ', 'inking ', 'used ']\n",
      "\n",
      "thus legalized robots will irrefutably d\n",
      "['evelopers ', 'o ', 'iscussion ', 'ata ', 'rafful ']\n",
      "\n",
      "since the launch of the watson visual re\n",
      "['ality ', 'sult ', 'play ', 'lated ', 'commend ']\n",
      "\n",
      "hi i am devashish and i am a data scient\n",
      "['ist ', 'ed ', ' and ', 'ation ', 's ']\n",
      "\n"
     ]
    }
   ],
   "source": [
    "for q in quotes:\n",
    "    seq = q[:40].lower()\n",
    "    print(seq)\n",
    "    print(predict_completions(seq, 5))\n",
    "    print()"
   ]
  },
  {
   "cell_type": "code",
   "execution_count": 93,
   "metadata": {},
   "outputs": [],
   "source": [
    "import matplotlib.pyplot as plt"
   ]
  },
  {
   "cell_type": "code",
   "execution_count": null,
   "metadata": {},
   "outputs": [],
   "source": [
    "#1. Regression R2 and RMSE\n",
    "#2. Classification F1 and Confusion Matrix\n",
    "#3. Classification Accuracy\n",
    "#4. Support Vector"
   ]
  },
  {
   "cell_type": "code",
   "execution_count": 97,
   "metadata": {},
   "outputs": [],
   "source": [
    "# Linear Regression\n",
    "# Random Forest Regrssion\n",
    "# Gradient Boosting\n",
    "r2 = [0.9748, 0.1346, 0.9307, -0.0442]\n",
    "rmse = [7832.70, 269310.34, 21561.705, 325002.89]\n",
    "reg = ['LR', 'RFR', 'GB', 'SVR']"
   ]
  },
  {
   "cell_type": "code",
   "execution_count": 104,
   "metadata": {},
   "outputs": [
    {
     "data": {
      "text/plain": [
       "Text(0.5,1,'Evaluation Using R^2 Score')"
      ]
     },
     "execution_count": 104,
     "metadata": {},
     "output_type": "execute_result"
    },
    {
     "data": {
      "image/png": "[encoded data removed]",
      "text/plain": [
       "<Figure size 432x288 with 1 Axes>"
      ]
     },
     "metadata": {},
     "output_type": "display_data"
    }
   ],
   "source": [
    "plt.bar(reg, r2)\n",
    "plt.xlabel('Regression Models')\n",
    "plt.ylabel('R^2 Score')\n",
    "plt.title('Evaluation Using R^2 Score')"
   ]
  },
  {
   "cell_type": "code",
   "execution_count": 105,
   "metadata": {},
   "outputs": [
    {
     "data": {
      "text/plain": [
       "Text(0.5,1,'Evaluation Using RMSE')"
      ]
     },
     "execution_count": 105,
     "metadata": {},
     "output_type": "execute_result"
    },
    {
     "data": {
      "image/png": "[encoded data removed]",
      "text/plain": [
       "<Figure size 432x288 with 1 Axes>"
      ]
     },
     "metadata": {},
     "output_type": "display_data"
    }
   ],
   "source": [
    "plt.bar(reg, rmse)\n",
    "plt.xlabel('Regression Models')\n",
    "plt.ylabel('RMSE Score')\n",
    "plt.title('Evaluation Using RMSE')"
   ]
  },
  {
   "cell_type": "code",
   "execution_count": 126,
   "metadata": {},
   "outputs": [
    {
     "name": "stderr",
     "output_type": "stream",
     "text": [
      "/Users/devashish/anaconda3/lib/python3.6/site-packages/scipy/stats/stats.py:1713: FutureWarning: Using a non-tuple sequence for multidimensional indexing is deprecated; use `arr[tuple(seq)]` instead of `arr[seq]`. In the future this will be interpreted as an array index, `arr[np.array(seq)]`, which will result either in an error or a different result.\n",
      "  return np.add.reduce(sorted[indexer] * weights, axis=axis) / sumval\n"
     ]
    },
    {
     "data": {
      "image/png": "[encoded data removed]",
      "text/plain": [
       "<Figure size 432x288 with 1 Axes>"
      ]
     },
     "metadata": {},
     "output_type": "display_data"
    }
   ],
   "source": [
    "sns.regplot('readingTime', 'totalClapCount', data=df_drop_duplicate, order=3)\n",
    "plt.show()"
   ]
  },
  {
   "cell_type": "code",
   "execution_count": null,
   "metadata": {},
   "outputs": [],
   "source": [
    "print('hi')"
   ]
  },
  {
   "cell_type": "code",
   "execution_count": 133,
   "metadata": {},
   "outputs": [
    {
     "data": {
      "text/plain": [
       "291706"
      ]
     },
     "execution_count": 133,
     "metadata": {},
     "output_type": "execute_result"
    }
   ],
   "source": [
    "max(df_drop_duplicate['totalClapCount'])"
   ]
  },
  {
   "cell_type": "code",
   "execution_count": 135,
   "metadata": {},
   "outputs": [
    {
     "data": {
      "text/plain": [
       "collectionId                                                    120fbcaac315\n",
       "createdDate                                                       2018-06-02\n",
       "createdDatetime                                          2018-06-02 22:03:55\n",
       "firstPublishedDate                                                2018-06-15\n",
       "firstPublishedDatetime                                   2018-06-15 23:34:50\n",
       "imageCount                                                                 1\n",
       "language                                                                  en\n",
       "latestPublishedDate                                               2018-08-12\n",
       "latestPublishedDatetime                                  2018-08-12 14:59:28\n",
       "linksCount                                                                 3\n",
       "postId                                                          9b162377ab77\n",
       "readingTime                                                          5.76226\n",
       "recommends                                                             42288\n",
       "responsesCreatedCount                                                   1153\n",
       "socialRecommendsCount                                                      3\n",
       "subTitle                                       The Root of All Our Problems.\n",
       "tagsCount                                                                  5\n",
       "text                       Source\\nThe Most Important Skill Nobody Taught...\n",
       "title                             The Most Important Skill Nobody Taught You\n",
       "totalClapCount                                                        291706\n",
       "uniqueSlug                 the-most-important-skill-nobody-taught-you-9b1...\n",
       "updatedDate                                                       2018-10-26\n",
       "updatedDatetime                                          2018-10-26 22:29:34\n",
       "url                        https://medium.com/s/story/the-most-important-...\n",
       "vote                                                                   False\n",
       "wordCount                                                               1474\n",
       "tag_name                                                    Self Improvement\n",
       "slug                                                        self-improvement\n",
       "name                                                        Self Improvement\n",
       "postCount                                                             151898\n",
       "Name: 131436, dtype: object"
      ]
     },
     "execution_count": 135,
     "metadata": {},
     "output_type": "execute_result"
    }
   ],
   "source": [
    "df_drop_duplicate.loc[df_drop_duplicate['totalClapCount'].idxmax()]"
   ]
  },
  {
   "cell_type": "code",
   "execution_count": 137,
   "metadata": {},
   "outputs": [],
   "source": [
    "acc = [0.512, 0.564]\n",
    "clas = ['GNB', 'MLKNN']"
   ]
  },
  {
   "cell_type": "code",
   "execution_count": 138,
   "metadata": {},
   "outputs": [
    {
     "data": {
      "text/plain": [
       "Text(0.5,1,'Evaluation Using Accuracy')"
      ]
     },
     "execution_count": 138,
     "metadata": {},
     "output_type": "execute_result"
    },
    {
     "data": {
      "image/png": "[encoded data removed]",
      "text/plain": [
       "<Figure size 432x288 with 1 Axes>"
      ]
     },
     "metadata": {},
     "output_type": "display_data"
    }
   ],
   "source": [
    "plt.bar(clas, acc)\n",
    "plt.xlabel('Classification Models')\n",
    "plt.ylabel('Accuracy Score')\n",
    "plt.title('Evaluation Using Accuracy')"
   ]
  },
  {
   "cell_type": "code",
   "execution_count": 139,
   "metadata": {},
   "outputs": [],
   "source": [
    "acc = [0.6670946816197028, 0.7567689992608084]\n",
    "clas = ['GNB', 'MLKNN']"
   ]
  },
  {
   "cell_type": "code",
   "execution_count": 140,
   "metadata": {},
   "outputs": [
    {
     "data": {
      "text/plain": [
       "Text(0.5,1,'Evaluation Using F1')"
      ]
     },
     "execution_count": 140,
     "metadata": {},
     "output_type": "execute_result"
    },
    {
     "data": {
      "image/png": "[encoded data removed]",
      "text/plain": [
       "<Figure size 432x288 with 1 Axes>"
      ]
     },
     "metadata": {},
     "output_type": "display_data"
    }
   ],
   "source": [
    "plt.bar(clas, acc)\n",
    "plt.xlabel('Classification Models')\n",
    "plt.ylabel('F1 Score')\n",
    "plt.title('Evaluation Using F1')"
   ]
  },
  {
   "cell_type": "code",
   "execution_count": null,
   "metadata": {},
   "outputs": [],
   "source": []
  },
  {
   "cell_type": "code",
   "execution_count": null,
   "metadata": {},
   "outputs": [],
   "source": []
  },
  {
   "cell_type": "code",
   "execution_count": null,
   "metadata": {},
   "outputs": [],
   "source": []
  },
  {
   "cell_type": "code",
   "execution_count": null,
   "metadata": {},
   "outputs": [],
   "source": []
  },
  {
   "cell_type": "code",
   "execution_count": null,
   "metadata": {},
   "outputs": [],
   "source": []
  },
  {
   "cell_type": "code",
   "execution_count": null,
   "metadata": {},
   "outputs": [],
   "source": []
  },
  {
   "cell_type": "code",
   "execution_count": null,
   "metadata": {},
   "outputs": [],
   "source": []
  },
  {
   "cell_type": "code",
   "execution_count": null,
   "metadata": {},
   "outputs": [],
   "source": []
  },
  {
   "cell_type": "code",
   "execution_count": null,
   "metadata": {},
   "outputs": [],
   "source": []
  },
  {
   "cell_type": "code",
   "execution_count": null,
   "metadata": {},
   "outputs": [],
   "source": []
  },
  {
   "cell_type": "code",
   "execution_count": null,
   "metadata": {},
   "outputs": [],
   "source": []
  },
  {
   "cell_type": "code",
   "execution_count": null,
   "metadata": {},
   "outputs": [],
   "source": []
  },
  {
   "cell_type": "code",
   "execution_count": null,
   "metadata": {},
   "outputs": [],
   "source": []
  },
  {
   "cell_type": "code",
   "execution_count": null,
   "metadata": {},
   "outputs": [],
   "source": []
  },
  {
   "cell_type": "code",
   "execution_count": null,
   "metadata": {},
   "outputs": [],
   "source": []
  },
  {
   "cell_type": "code",
   "execution_count": 18,
   "metadata": {},
   "outputs": [
    {
     "name": "stdout",
     "output_type": "stream",
     "text": [
      "WARNING:tensorflow:From /Users/devashish/anaconda3/lib/python3.6/site-packages/tensorflow/python/framework/op_def_library.py:263: colocate_with (from tensorflow.python.framework.ops) is deprecated and will be removed in a future version.\n",
      "Instructions for updating:\n",
      "Colocations handled automatically by placer.\n",
      "WARNING:tensorflow:From /Users/devashish/anaconda3/lib/python3.6/site-packages/tensorflow/python/ops/math_ops.py:3066: to_int32 (from tensorflow.python.ops.math_ops) is deprecated and will be removed in a future version.\n",
      "Instructions for updating:\n",
      "Use tf.cast instead.\n"
     ]
    }
   ],
   "source": [
    "model = load_model('rnn.h5')\n",
    "history = pickle.load(open(\"history.p\", \"rb\"))"
   ]
  },
  {
   "cell_type": "code",
   "execution_count": 94,
   "metadata": {},
   "outputs": [],
   "source": [
    "# Should be greater than 40 characters\n",
    "quotes = ['We also studied that support vector mach',\n",
    "         'Naive Bayes is performing the best with ',\n",
    "         'This is data mining class and we love our prof',\n",
    "         'Hi',\n",
    "         'Sweta, Sweety and Devashish completed their data mining pro']\n",
    "#ndcg"
   ]
  },
  {
   "cell_type": "code",
   "execution_count": 95,
   "metadata": {},
   "outputs": [
    {
     "name": "stdout",
     "output_type": "stream",
     "text": [
      "We also studied that support vector mach\n",
      "['ine ', 'ence ', ' in ', 'yne ', 'uet ']\n",
      "\n",
      "Naive Bayes is performing the best with \n",
      "['the ', 'a ', 'machine ', 'something ', 'companies ']\n",
      "\n",
      "This is data mining class and we love our prof\n",
      "['essional ', 'ile ', 'atle ', 'utly ', 'lications ']\n",
      "\n",
      "Hi\n",
      "\n",
      "Sweta, Sweety and Devashish completed their data mining pro\n",
      "['duct ', 'blem ', 'cess ', 'viding ', 'ject ']\n",
      "\n"
     ]
    }
   ],
   "source": [
    "for q in quotes:\n",
    "    if len(q) < 40:\n",
    "        print(q)\n",
    "        print()\n",
    "        continue\n",
    "        \n",
    "    if len(q) > 40 :\n",
    "        seq = q[len(q)-40:len(q)].lower()\n",
    "    else:\n",
    "        seq = q[:40].lower()\n",
    "    print(q)\n",
    "    print(predict_completions(seq, 5))\n",
    "    print()"
   ]
  },
  {
   "cell_type": "code",
   "execution_count": null,
   "metadata": {},
   "outputs": [],
   "source": []
  },
  {
   "cell_type": "code",
   "execution_count": null,
   "metadata": {},
   "outputs": [],
   "source": []
  }
 ],
 "metadata": {
  "kernelspec": {
   "display_name": "Python 3",
   "language": "python",
   "name": "python3"
  },
  "language_info": {
   "codemirror_mode": {
    "name": "ipython",
    "version": 3
   },
   "file_extension": ".py",
   "mimetype": "text/x-python",
   "name": "python",
   "nbconvert_exporter": "python",
   "pygments_lexer": "ipython3",
   "version": "3.6.5"
  }
 },
 "nbformat": 4,
 "nbformat_minor": 2
}
