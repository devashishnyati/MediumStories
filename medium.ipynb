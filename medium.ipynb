{
 "cells": [
  {
   "cell_type": "code",
   "execution_count": 1,
   "metadata": {},
   "outputs": [],
   "source": [
    "import pandas as pd\n",
    "import numpy as np"
   ]
  },
  {
   "cell_type": "code",
   "execution_count": 13,
   "metadata": {},
   "outputs": [],
   "source": [
    "df = pd.read_csv('Data/Medium_AggregatedData.csv', sep=',')"
   ]
  },
  {
   "cell_type": "code",
   "execution_count": 14,
   "metadata": {},
   "outputs": [
    {
     "data": {
      "text/plain": [
       "(279577, 50)"
      ]
     },
     "execution_count": 14,
     "metadata": {},
     "output_type": "execute_result"
    }
   ],
   "source": [
    "df.shape"
   ]
  },
  {
   "cell_type": "code",
   "execution_count": 15,
   "metadata": {},
   "outputs": [],
   "source": [
    "df = df[df['language']=='en']"
   ]
  },
  {
   "cell_type": "code",
   "execution_count": 21,
   "metadata": {},
   "outputs": [],
   "source": [
    "df_useful_columns = df.drop(['audioVersionDurationSec', 'codeBlockCount','isSubscriptionLocked','publicationdescription','publicationdomain','publicationfacebookPageName','publicationfollowerCount','publicationname','publicationpublicEmail',\n",
    "                                                              'publicationslug','publicationtags','bio','userId','userName','usersFollowedByCount','usersFollowedCount','scrappedDate','codeBlock', 'publicationtwitterUsername', 'author'], axis=1)"
   ]
  },
  {
   "cell_type": "code",
   "execution_count": 22,
   "metadata": {},
   "outputs": [],
   "source": [
    "df_drop_duplicate = df_useful_columns.drop_duplicates(subset='postId')"
   ]
  },
  {
   "cell_type": "code",
   "execution_count": 23,
   "metadata": {},
   "outputs": [
    {
     "data": {
      "text/html": [
       "<div>\n",
       "<style scoped>\n",
       "    .dataframe tbody tr th:only-of-type {\n",
       "        vertical-align: middle;\n",
       "    }\n",
       "\n",
       "    .dataframe tbody tr th {\n",
       "        vertical-align: top;\n",
       "    }\n",
       "\n",
       "    .dataframe thead th {\n",
       "        text-align: right;\n",
       "    }\n",
       "</style>\n",
       "<table border=\"1\" class=\"dataframe\">\n",
       "  <thead>\n",
       "    <tr style=\"text-align: right;\">\n",
       "      <th></th>\n",
       "      <th>imageCount</th>\n",
       "      <th>linksCount</th>\n",
       "      <th>readingTime</th>\n",
       "      <th>recommends</th>\n",
       "      <th>responsesCreatedCount</th>\n",
       "      <th>socialRecommendsCount</th>\n",
       "      <th>tagsCount</th>\n",
       "      <th>totalClapCount</th>\n",
       "      <th>wordCount</th>\n",
       "      <th>postCount</th>\n",
       "    </tr>\n",
       "  </thead>\n",
       "  <tbody>\n",
       "    <tr>\n",
       "      <th>count</th>\n",
       "      <td>66380.000000</td>\n",
       "      <td>66380.000000</td>\n",
       "      <td>66380.000000</td>\n",
       "      <td>66380.000000</td>\n",
       "      <td>66380.000000</td>\n",
       "      <td>66380.000000</td>\n",
       "      <td>66380.000000</td>\n",
       "      <td>66380.000000</td>\n",
       "      <td>66380.000000</td>\n",
       "      <td>66380.000000</td>\n",
       "    </tr>\n",
       "    <tr>\n",
       "      <th>mean</th>\n",
       "      <td>3.550136</td>\n",
       "      <td>6.606478</td>\n",
       "      <td>3.983713</td>\n",
       "      <td>25.196113</td>\n",
       "      <td>0.902757</td>\n",
       "      <td>0.069931</td>\n",
       "      <td>4.299940</td>\n",
       "      <td>173.135026</td>\n",
       "      <td>922.495089</td>\n",
       "      <td>60063.094908</td>\n",
       "    </tr>\n",
       "    <tr>\n",
       "      <th>std</th>\n",
       "      <td>5.399172</td>\n",
       "      <td>11.746137</td>\n",
       "      <td>3.506808</td>\n",
       "      <td>277.391004</td>\n",
       "      <td>14.940658</td>\n",
       "      <td>0.292918</td>\n",
       "      <td>1.203037</td>\n",
       "      <td>1891.890063</td>\n",
       "      <td>871.067923</td>\n",
       "      <td>61242.502841</td>\n",
       "    </tr>\n",
       "    <tr>\n",
       "      <th>min</th>\n",
       "      <td>0.000000</td>\n",
       "      <td>0.000000</td>\n",
       "      <td>0.003774</td>\n",
       "      <td>0.000000</td>\n",
       "      <td>0.000000</td>\n",
       "      <td>0.000000</td>\n",
       "      <td>1.000000</td>\n",
       "      <td>0.000000</td>\n",
       "      <td>0.000000</td>\n",
       "      <td>0.000000</td>\n",
       "    </tr>\n",
       "    <tr>\n",
       "      <th>25%</th>\n",
       "      <td>1.000000</td>\n",
       "      <td>1.000000</td>\n",
       "      <td>1.920755</td>\n",
       "      <td>0.000000</td>\n",
       "      <td>0.000000</td>\n",
       "      <td>0.000000</td>\n",
       "      <td>4.000000</td>\n",
       "      <td>0.000000</td>\n",
       "      <td>421.000000</td>\n",
       "      <td>30322.000000</td>\n",
       "    </tr>\n",
       "    <tr>\n",
       "      <th>50%</th>\n",
       "      <td>2.000000</td>\n",
       "      <td>4.000000</td>\n",
       "      <td>3.180189</td>\n",
       "      <td>2.000000</td>\n",
       "      <td>0.000000</td>\n",
       "      <td>0.000000</td>\n",
       "      <td>5.000000</td>\n",
       "      <td>6.000000</td>\n",
       "      <td>720.000000</td>\n",
       "      <td>51320.000000</td>\n",
       "    </tr>\n",
       "    <tr>\n",
       "      <th>75%</th>\n",
       "      <td>4.000000</td>\n",
       "      <td>8.000000</td>\n",
       "      <td>5.011557</td>\n",
       "      <td>8.000000</td>\n",
       "      <td>0.000000</td>\n",
       "      <td>0.000000</td>\n",
       "      <td>5.000000</td>\n",
       "      <td>65.000000</td>\n",
       "      <td>1158.000000</td>\n",
       "      <td>66154.000000</td>\n",
       "    </tr>\n",
       "    <tr>\n",
       "      <th>max</th>\n",
       "      <td>263.000000</td>\n",
       "      <td>1180.000000</td>\n",
       "      <td>99.603774</td>\n",
       "      <td>42288.000000</td>\n",
       "      <td>3076.000000</td>\n",
       "      <td>3.000000</td>\n",
       "      <td>6.000000</td>\n",
       "      <td>291706.000000</td>\n",
       "      <td>24964.000000</td>\n",
       "      <td>331914.000000</td>\n",
       "    </tr>\n",
       "  </tbody>\n",
       "</table>\n",
       "</div>"
      ],
      "text/plain": [
       "         imageCount    linksCount   readingTime    recommends  \\\n",
       "count  66380.000000  66380.000000  66380.000000  66380.000000   \n",
       "mean       3.550136      6.606478      3.983713     25.196113   \n",
       "std        5.399172     11.746137      3.506808    277.391004   \n",
       "min        0.000000      0.000000      0.003774      0.000000   \n",
       "25%        1.000000      1.000000      1.920755      0.000000   \n",
       "50%        2.000000      4.000000      3.180189      2.000000   \n",
       "75%        4.000000      8.000000      5.011557      8.000000   \n",
       "max      263.000000   1180.000000     99.603774  42288.000000   \n",
       "\n",
       "       responsesCreatedCount  socialRecommendsCount     tagsCount  \\\n",
       "count           66380.000000           66380.000000  66380.000000   \n",
       "mean                0.902757               0.069931      4.299940   \n",
       "std                14.940658               0.292918      1.203037   \n",
       "min                 0.000000               0.000000      1.000000   \n",
       "25%                 0.000000               0.000000      4.000000   \n",
       "50%                 0.000000               0.000000      5.000000   \n",
       "75%                 0.000000               0.000000      5.000000   \n",
       "max              3076.000000               3.000000      6.000000   \n",
       "\n",
       "       totalClapCount     wordCount      postCount  \n",
       "count    66380.000000  66380.000000   66380.000000  \n",
       "mean       173.135026    922.495089   60063.094908  \n",
       "std       1891.890063    871.067923   61242.502841  \n",
       "min          0.000000      0.000000       0.000000  \n",
       "25%          0.000000    421.000000   30322.000000  \n",
       "50%          6.000000    720.000000   51320.000000  \n",
       "75%         65.000000   1158.000000   66154.000000  \n",
       "max     291706.000000  24964.000000  331914.000000  "
      ]
     },
     "execution_count": 23,
     "metadata": {},
     "output_type": "execute_result"
    }
   ],
   "source": [
    "df_drop_duplicate.describe()"
   ]
  },
  {
   "cell_type": "code",
   "execution_count": 8,
   "metadata": {},
   "outputs": [],
   "source": [
    "df_drop_duplicate.to_csv('Data/dropduplicate.csv', sep=',')"
   ]
  },
  {
   "cell_type": "code",
   "execution_count": 24,
   "metadata": {},
   "outputs": [],
   "source": [
    "df_dummy = df_drop_duplicate.head(3)"
   ]
  },
  {
   "cell_type": "code",
   "execution_count": 25,
   "metadata": {},
   "outputs": [
    {
     "data": {
      "text/html": [
       "<div>\n",
       "<style scoped>\n",
       "    .dataframe tbody tr th:only-of-type {\n",
       "        vertical-align: middle;\n",
       "    }\n",
       "\n",
       "    .dataframe tbody tr th {\n",
       "        vertical-align: top;\n",
       "    }\n",
       "\n",
       "    .dataframe thead th {\n",
       "        text-align: right;\n",
       "    }\n",
       "</style>\n",
       "<table border=\"1\" class=\"dataframe\">\n",
       "  <thead>\n",
       "    <tr style=\"text-align: right;\">\n",
       "      <th></th>\n",
       "      <th>collectionId</th>\n",
       "      <th>createdDate</th>\n",
       "      <th>createdDatetime</th>\n",
       "      <th>firstPublishedDate</th>\n",
       "      <th>firstPublishedDatetime</th>\n",
       "      <th>imageCount</th>\n",
       "      <th>language</th>\n",
       "      <th>latestPublishedDate</th>\n",
       "      <th>latestPublishedDatetime</th>\n",
       "      <th>linksCount</th>\n",
       "      <th>...</th>\n",
       "      <th>uniqueSlug</th>\n",
       "      <th>updatedDate</th>\n",
       "      <th>updatedDatetime</th>\n",
       "      <th>url</th>\n",
       "      <th>vote</th>\n",
       "      <th>wordCount</th>\n",
       "      <th>tag_name</th>\n",
       "      <th>slug</th>\n",
       "      <th>name</th>\n",
       "      <th>postCount</th>\n",
       "    </tr>\n",
       "  </thead>\n",
       "  <tbody>\n",
       "    <tr>\n",
       "      <th>0</th>\n",
       "      <td>638f418c8464</td>\n",
       "      <td>2018-09-18</td>\n",
       "      <td>2018-09-18 20:55:34</td>\n",
       "      <td>2018-09-18</td>\n",
       "      <td>2018-09-18 20:57:03</td>\n",
       "      <td>1</td>\n",
       "      <td>en</td>\n",
       "      <td>2018-09-18</td>\n",
       "      <td>2018-09-18 20:58:20</td>\n",
       "      <td>1</td>\n",
       "      <td>...</td>\n",
       "      <td>private-business-government-and-blockchain-100...</td>\n",
       "      <td>2018-09-18</td>\n",
       "      <td>2018-09-18 20:58:20</td>\n",
       "      <td>https://medium.com/s/story/private-business-go...</td>\n",
       "      <td>False</td>\n",
       "      <td>201</td>\n",
       "      <td>Blockchain</td>\n",
       "      <td>blockchain</td>\n",
       "      <td>Blockchain</td>\n",
       "      <td>265164.0</td>\n",
       "    </tr>\n",
       "    <tr>\n",
       "      <th>3</th>\n",
       "      <td>NaN</td>\n",
       "      <td>2018-01-07</td>\n",
       "      <td>2018-01-07 17:04:37</td>\n",
       "      <td>2018-01-07</td>\n",
       "      <td>2018-01-07 17:06:29</td>\n",
       "      <td>13</td>\n",
       "      <td>en</td>\n",
       "      <td>2018-01-07</td>\n",
       "      <td>2018-01-07 17:18:38</td>\n",
       "      <td>24</td>\n",
       "      <td>...</td>\n",
       "      <td>introduction-3-1000c43bcb97</td>\n",
       "      <td>2018-01-07</td>\n",
       "      <td>2018-01-07 17:18:39</td>\n",
       "      <td>https://medium.com/s/story/introduction-3-1000...</td>\n",
       "      <td>False</td>\n",
       "      <td>4854</td>\n",
       "      <td>Technology</td>\n",
       "      <td>technology</td>\n",
       "      <td>Technology</td>\n",
       "      <td>166125.0</td>\n",
       "    </tr>\n",
       "    <tr>\n",
       "      <th>7</th>\n",
       "      <td>NaN</td>\n",
       "      <td>2018-03-08</td>\n",
       "      <td>2018-03-08 07:04:31</td>\n",
       "      <td>2018-03-08</td>\n",
       "      <td>2018-03-08 07:07:42</td>\n",
       "      <td>1</td>\n",
       "      <td>en</td>\n",
       "      <td>2018-03-08</td>\n",
       "      <td>2018-03-08 07:07:42</td>\n",
       "      <td>3</td>\n",
       "      <td>...</td>\n",
       "      <td>ascent-of-data-science-sas-and-big-data-analys...</td>\n",
       "      <td>2018-03-08</td>\n",
       "      <td>2018-03-08 07:07:42</td>\n",
       "      <td>https://medium.com/s/story/ascent-of-data-scie...</td>\n",
       "      <td>False</td>\n",
       "      <td>533</td>\n",
       "      <td>Data Science</td>\n",
       "      <td>data-science</td>\n",
       "      <td>Data Science</td>\n",
       "      <td>33617.0</td>\n",
       "    </tr>\n",
       "  </tbody>\n",
       "</table>\n",
       "<p>3 rows × 30 columns</p>\n",
       "</div>"
      ],
      "text/plain": [
       "   collectionId createdDate      createdDatetime firstPublishedDate  \\\n",
       "0  638f418c8464  2018-09-18  2018-09-18 20:55:34         2018-09-18   \n",
       "3           NaN  2018-01-07  2018-01-07 17:04:37         2018-01-07   \n",
       "7           NaN  2018-03-08  2018-03-08 07:04:31         2018-03-08   \n",
       "\n",
       "  firstPublishedDatetime  imageCount language latestPublishedDate  \\\n",
       "0    2018-09-18 20:57:03           1       en          2018-09-18   \n",
       "3    2018-01-07 17:06:29          13       en          2018-01-07   \n",
       "7    2018-03-08 07:07:42           1       en          2018-03-08   \n",
       "\n",
       "  latestPublishedDatetime  linksCount    ...      \\\n",
       "0     2018-09-18 20:58:20           1    ...       \n",
       "3     2018-01-07 17:18:38          24    ...       \n",
       "7     2018-03-08 07:07:42           3    ...       \n",
       "\n",
       "                                          uniqueSlug  updatedDate  \\\n",
       "0  private-business-government-and-blockchain-100...   2018-09-18   \n",
       "3                        introduction-3-1000c43bcb97   2018-01-07   \n",
       "7  ascent-of-data-science-sas-and-big-data-analys...   2018-03-08   \n",
       "\n",
       "       updatedDatetime                                                url  \\\n",
       "0  2018-09-18 20:58:20  https://medium.com/s/story/private-business-go...   \n",
       "3  2018-01-07 17:18:39  https://medium.com/s/story/introduction-3-1000...   \n",
       "7  2018-03-08 07:07:42  https://medium.com/s/story/ascent-of-data-scie...   \n",
       "\n",
       "    vote wordCount      tag_name          slug          name  postCount  \n",
       "0  False       201    Blockchain    blockchain    Blockchain   265164.0  \n",
       "3  False      4854    Technology    technology    Technology   166125.0  \n",
       "7  False       533  Data Science  data-science  Data Science    33617.0  \n",
       "\n",
       "[3 rows x 30 columns]"
      ]
     },
     "execution_count": 25,
     "metadata": {},
     "output_type": "execute_result"
    }
   ],
   "source": [
    "df_dummy"
   ]
  },
  {
   "cell_type": "code",
   "execution_count": 20,
   "metadata": {},
   "outputs": [],
   "source": [
    "df_dummy.to_csv('Data/shortdummy.csv',sep=',')"
   ]
  },
  {
   "cell_type": "code",
   "execution_count": 26,
   "metadata": {},
   "outputs": [],
   "source": [
    "tag = df_useful_columns.groupby('tag_name').size().sort_values(ascending=False)[:10]\n",
    "top = list(tag.index)\n",
    "value = list(tag.values)"
   ]
  },
  {
   "cell_type": "code",
   "execution_count": 27,
   "metadata": {},
   "outputs": [],
   "source": [
    "import matplotlib.pyplot as plt\n",
    "import seaborn as sns"
   ]
  },
  {
   "cell_type": "code",
   "execution_count": 28,
   "metadata": {},
   "outputs": [
    {
     "data": {
      "image/png": "[encoded data removed]",
      "text/plain": [
       "<Figure size 432x288 with 1 Axes>"
      ]
     },
     "metadata": {},
     "output_type": "display_data"
    }
   ],
   "source": [
    "plt.pie(value, labels=top)\n",
    "plt.axis('equal')\n",
    "plt.show()"
   ]
  },
  {
   "cell_type": "code",
   "execution_count": 93,
   "metadata": {},
   "outputs": [
    {
     "data": {
      "text/plain": [
       "tag_name\n",
       "Artificial Intelligence    32824\n",
       "Machine Learning           27383\n",
       "Data Science               16689\n",
       "Deep Learning               6194\n",
       "Technology                  6163\n",
       "Blockchain                  4801\n",
       "Python                      3075\n",
       "Big Data                    2670\n",
       "Tech                        2599\n",
       "Chatbots                    2515\n",
       "dtype: int64"
      ]
     },
     "execution_count": 93,
     "metadata": {},
     "output_type": "execute_result"
    }
   ],
   "source": [
    "tag"
   ]
  },
  {
   "cell_type": "code",
   "execution_count": 94,
   "metadata": {},
   "outputs": [],
   "source": [
    "df[df['postId']=='100139913e4c'].to_csv('Data/same2.csv',sep=',')"
   ]
  },
  {
   "cell_type": "code",
   "execution_count": 31,
   "metadata": {},
   "outputs": [],
   "source": [
    "from wordcloud import WordCloud\n",
    "from wordcloud import STOPWORDS"
   ]
  },
  {
   "cell_type": "code",
   "execution_count": 29,
   "metadata": {},
   "outputs": [],
   "source": [
    "text = \"\"\n",
    "for ind, row in df_drop_duplicate.iterrows():\n",
    "    text += str(row[\"title\"]) + \" \"\n",
    "text = text.strip()"
   ]
  },
  {
   "cell_type": "code",
   "execution_count": 32,
   "metadata": {},
   "outputs": [
    {
     "data": {
      "image/png": "[encoded data removed]",
      "text/plain": [
       "<Figure size 720x576 with 1 Axes>"
      ]
     },
     "metadata": {},
     "output_type": "display_data"
    }
   ],
   "source": [
    "plt.figure(figsize=(10,8))\n",
    "wordcloud = WordCloud(background_color='white', width=600, height=300, max_font_size=100, max_words=40).generate(text)\n",
    "plt.imshow(wordcloud)\n",
    "plt.axis(\"off\")\n",
    "plt.show()"
   ]
  },
  {
   "cell_type": "code",
   "execution_count": null,
   "metadata": {},
   "outputs": [],
   "source": []
  },
  {
   "cell_type": "code",
   "execution_count": 34,
   "metadata": {},
   "outputs": [],
   "source": [
    "df_test = df_drop_duplicate[df_drop_duplicate['totalClapCount']!=0]"
   ]
  },
  {
   "cell_type": "code",
   "execution_count": 44,
   "metadata": {},
   "outputs": [],
   "source": [
    "df_new = df_test.groupby('totalClapCount').size()"
   ]
  },
  {
   "cell_type": "code",
   "execution_count": 40,
   "metadata": {},
   "outputs": [
    {
     "name": "stderr",
     "output_type": "stream",
     "text": [
      "/Users/devashish/anaconda3/lib/python3.6/site-packages/matplotlib/axes/_axes.py:6462: UserWarning: The 'normed' kwarg is deprecated, and has been replaced by the 'density' kwarg.\n",
      "  warnings.warn(\"The 'normed' kwarg is deprecated, and has been \"\n"
     ]
    },
    {
     "data": {
      "text/plain": [
       "<matplotlib.axes._subplots.AxesSubplot at 0x1a5f8d4550>"
      ]
     },
     "execution_count": 40,
     "metadata": {},
     "output_type": "execute_result"
    },
    {
     "data": {
      "image/png": "[encoded data removed]",
      "text/plain": [
       "<Figure size 432x288 with 1 Axes>"
      ]
     },
     "metadata": {},
     "output_type": "display_data"
    }
   ],
   "source": [
    "sns.distplot(df_test['totalClapCount'])"
   ]
  },
  {
   "cell_type": "code",
   "execution_count": 45,
   "metadata": {},
   "outputs": [
    {
     "data": {
      "text/plain": [
       "totalClapCount\n",
       "1         5707\n",
       "2         2410\n",
       "3         1677\n",
       "4         1092\n",
       "5         1125\n",
       "6          859\n",
       "7          697\n",
       "8          571\n",
       "9          538\n",
       "10         805\n",
       "11         628\n",
       "12         512\n",
       "13         456\n",
       "14         372\n",
       "15         446\n",
       "16         368\n",
       "17         338\n",
       "18         335\n",
       "19         245\n",
       "20         363\n",
       "21         320\n",
       "22         287\n",
       "23         266\n",
       "24         217\n",
       "25         248\n",
       "26         237\n",
       "27         205\n",
       "28         185\n",
       "29         185\n",
       "30         236\n",
       "          ... \n",
       "30696        1\n",
       "30749        1\n",
       "32693        1\n",
       "33098        1\n",
       "33856        1\n",
       "35046        1\n",
       "35192        1\n",
       "35232        1\n",
       "35861        1\n",
       "36504        1\n",
       "38255        1\n",
       "38688        1\n",
       "39376        1\n",
       "39977        1\n",
       "41280        1\n",
       "42710        1\n",
       "44713        1\n",
       "46233        1\n",
       "46490        1\n",
       "47445        1\n",
       "47953        1\n",
       "49838        1\n",
       "53707        1\n",
       "58673        1\n",
       "67949        1\n",
       "79766        1\n",
       "80886        1\n",
       "112595       1\n",
       "200357       1\n",
       "291706       1\n",
       "Length: 2300, dtype: int64"
      ]
     },
     "execution_count": 45,
     "metadata": {},
     "output_type": "execute_result"
    }
   ],
   "source": [
    "df_new"
   ]
  },
  {
   "cell_type": "code",
   "execution_count": null,
   "metadata": {},
   "outputs": [],
   "source": []
  }
 ],
 "metadata": {
  "kernelspec": {
   "display_name": "Python 3",
   "language": "python",
   "name": "python3"
  },
  "language_info": {
   "codemirror_mode": {
    "name": "ipython",
    "version": 3
   },
   "file_extension": ".py",
   "mimetype": "text/x-python",
   "name": "python",
   "nbconvert_exporter": "python",
   "pygments_lexer": "ipython3",
   "version": "3.6.5"
  }
 },
 "nbformat": 4,
 "nbformat_minor": 2
}
