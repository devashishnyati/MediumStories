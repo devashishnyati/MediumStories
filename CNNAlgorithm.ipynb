{
 "cells": [
  {
   "cell_type": "markdown",
   "metadata": {},
   "source": [
    "# Goal 2 - Get insights about stories that are similar to users topic.\n"
   ]
  },
  {
   "cell_type": "markdown",
   "metadata": {},
   "source": [
    "Get insights about stories that are similar to users topic - Identifying the class of the new story will be performed by CNN algorithm.\n"
   ]
  },
  {
   "cell_type": "code",
   "execution_count": 1,
   "metadata": {},
   "outputs": [
    {
     "name": "stderr",
     "output_type": "stream",
     "text": [
      "/anaconda3/lib/python3.6/site-packages/h5py/__init__.py:36: FutureWarning: Conversion of the second argument of issubdtype from `float` to `np.floating` is deprecated. In future, it will be treated as `np.float64 == np.dtype(float).type`.\n",
      "  from ._conv import register_converters as _register_converters\n",
      "Using TensorFlow backend.\n"
     ]
    }
   ],
   "source": [
    "import numpy as np \n",
    "import pandas as pd \n",
    "from keras.models import Model\n",
    "from keras.layers import Dense, Embedding, Input\n",
    "from keras.layers import Conv1D, GlobalMaxPool1D, Dropout, concatenate\n",
    "from keras.preprocessing import text, sequence\n",
    "from keras.callbacks import EarlyStopping, ModelCheckpoint\n",
    "from sklearn.model_selection import train_test_split\n",
    "from sklearn.preprocessing import StandardScaler\n",
    "from sklearn.neighbors import KNeighborsClassifier\n",
    "import matplotlib.pyplot as plt\n",
    "%matplotlib inline"
   ]
  },
  {
   "cell_type": "markdown",
   "metadata": {},
   "source": [
    "# Reading CSV data file"
   ]
  },
  {
   "cell_type": "code",
   "execution_count": 2,
   "metadata": {},
   "outputs": [],
   "source": [
    "df = pd.read_csv(\"Medium_AggregatedData.csv\")"
   ]
  },
  {
   "cell_type": "code",
   "execution_count": 3,
   "metadata": {},
   "outputs": [
    {
     "data": {
      "text/plain": [
       "Index(['audioVersionDurationSec', 'codeBlock', 'codeBlockCount',\n",
       "       'collectionId', 'createdDate', 'createdDatetime', 'firstPublishedDate',\n",
       "       'firstPublishedDatetime', 'imageCount', 'isSubscriptionLocked',\n",
       "       'language', 'latestPublishedDate', 'latestPublishedDatetime',\n",
       "       'linksCount', 'postId', 'readingTime', 'recommends',\n",
       "       'responsesCreatedCount', 'socialRecommendsCount', 'subTitle',\n",
       "       'tagsCount', 'text', 'title', 'totalClapCount', 'uniqueSlug',\n",
       "       'updatedDate', 'updatedDatetime', 'url', 'vote', 'wordCount',\n",
       "       'publicationdescription', 'publicationdomain',\n",
       "       'publicationfacebookPageName', 'publicationfollowerCount',\n",
       "       'publicationname', 'publicationpublicEmail', 'publicationslug',\n",
       "       'publicationtags', 'publicationtwitterUsername', 'tag_name', 'slug',\n",
       "       'name', 'postCount', 'author', 'bio', 'userId', 'userName',\n",
       "       'usersFollowedByCount', 'usersFollowedCount', 'scrappedDate'],\n",
       "      dtype='object')"
      ]
     },
     "execution_count": 3,
     "metadata": {},
     "output_type": "execute_result"
    }
   ],
   "source": [
    "#Columns in dataframe\n",
    "df.columns"
   ]
  },
  {
   "cell_type": "code",
   "execution_count": 4,
   "metadata": {},
   "outputs": [],
   "source": [
    "#Calculating length of the text \n",
    "df['textLen'] = df['text'].str.len()"
   ]
  },
  {
   "cell_type": "code",
   "execution_count": 5,
   "metadata": {},
   "outputs": [
    {
     "name": "stdout",
     "output_type": "stream",
     "text": [
      "279577 total sentences\n"
     ]
    }
   ],
   "source": [
    "print(df.shape[0], 'total sentences')"
   ]
  },
  {
   "cell_type": "markdown",
   "metadata": {},
   "source": [
    "# Dropping columns which are not required"
   ]
  },
  {
   "cell_type": "code",
   "execution_count": 6,
   "metadata": {},
   "outputs": [],
   "source": [
    "df.drop(columns=['audioVersionDurationSec', 'codeBlock', 'codeBlockCount', 'collectionId', 'createdDate', \n",
    "                 'createdDatetime', 'firstPublishedDate','firstPublishedDatetime','imageCount', 'isSubscriptionLocked',\n",
    "                 'latestPublishedDate', 'latestPublishedDatetime', 'linksCount', 'responsesCreatedCount', \n",
    "                 'socialRecommendsCount','uniqueSlug', 'updatedDate', 'updatedDatetime', 'url', 'vote',\n",
    "                 'publicationdomain','publicationfacebookPageName', 'publicationdescription',\n",
    "                 'publicationfollowerCount','publicationname', 'publicationpublicEmail', 'publicationslug',\n",
    "                 'publicationtags', 'publicationtwitterUsername','slug','name', 'postCount',\n",
    "                 'usersFollowedByCount', 'usersFollowedCount', 'scrappedDate'], inplace=True)"
   ]
  },
  {
   "cell_type": "code",
   "execution_count": 7,
   "metadata": {},
   "outputs": [
    {
     "data": {
      "text/html": [
       "<div>\n",
       "<style scoped>\n",
       "    .dataframe tbody tr th:only-of-type {\n",
       "        vertical-align: middle;\n",
       "    }\n",
       "\n",
       "    .dataframe tbody tr th {\n",
       "        vertical-align: top;\n",
       "    }\n",
       "\n",
       "    .dataframe thead th {\n",
       "        text-align: right;\n",
       "    }\n",
       "</style>\n",
       "<table border=\"1\" class=\"dataframe\">\n",
       "  <thead>\n",
       "    <tr style=\"text-align: right;\">\n",
       "      <th></th>\n",
       "      <th>language</th>\n",
       "      <th>postId</th>\n",
       "      <th>readingTime</th>\n",
       "      <th>recommends</th>\n",
       "      <th>subTitle</th>\n",
       "      <th>tagsCount</th>\n",
       "      <th>text</th>\n",
       "      <th>title</th>\n",
       "      <th>totalClapCount</th>\n",
       "      <th>wordCount</th>\n",
       "      <th>tag_name</th>\n",
       "      <th>author</th>\n",
       "      <th>bio</th>\n",
       "      <th>userId</th>\n",
       "      <th>userName</th>\n",
       "      <th>textLen</th>\n",
       "    </tr>\n",
       "  </thead>\n",
       "  <tbody>\n",
       "    <tr>\n",
       "      <th>0</th>\n",
       "      <td>en</td>\n",
       "      <td>10007d3018fe</td>\n",
       "      <td>0.958491</td>\n",
       "      <td>2</td>\n",
       "      <td>A major private IT company implements blockcha...</td>\n",
       "      <td>5</td>\n",
       "      <td>Private Business, Government and Blockchain\\n\\...</td>\n",
       "      <td>Private Business, Government and Blockchain</td>\n",
       "      <td>100</td>\n",
       "      <td>201</td>\n",
       "      <td>Blockchain</td>\n",
       "      <td>Anar Babaev</td>\n",
       "      <td>NaN</td>\n",
       "      <td>f1ad85af0169</td>\n",
       "      <td>babaevanar</td>\n",
       "      <td>1244</td>\n",
       "    </tr>\n",
       "    <tr>\n",
       "      <th>1</th>\n",
       "      <td>en</td>\n",
       "      <td>10007d3018fe</td>\n",
       "      <td>0.958491</td>\n",
       "      <td>2</td>\n",
       "      <td>A major private IT company implements blockcha...</td>\n",
       "      <td>5</td>\n",
       "      <td>Private Business, Government and Blockchain\\n\\...</td>\n",
       "      <td>Private Business, Government and Blockchain</td>\n",
       "      <td>100</td>\n",
       "      <td>201</td>\n",
       "      <td>Samsung</td>\n",
       "      <td>Anar Babaev</td>\n",
       "      <td>NaN</td>\n",
       "      <td>f1ad85af0169</td>\n",
       "      <td>babaevanar</td>\n",
       "      <td>1244</td>\n",
       "    </tr>\n",
       "    <tr>\n",
       "      <th>2</th>\n",
       "      <td>en</td>\n",
       "      <td>10007d3018fe</td>\n",
       "      <td>0.958491</td>\n",
       "      <td>2</td>\n",
       "      <td>A major private IT company implements blockcha...</td>\n",
       "      <td>5</td>\n",
       "      <td>Private Business, Government and Blockchain\\n\\...</td>\n",
       "      <td>Private Business, Government and Blockchain</td>\n",
       "      <td>100</td>\n",
       "      <td>201</td>\n",
       "      <td>It</td>\n",
       "      <td>Anar Babaev</td>\n",
       "      <td>NaN</td>\n",
       "      <td>f1ad85af0169</td>\n",
       "      <td>babaevanar</td>\n",
       "      <td>1244</td>\n",
       "    </tr>\n",
       "    <tr>\n",
       "      <th>3</th>\n",
       "      <td>en</td>\n",
       "      <td>1000c43bcb97</td>\n",
       "      <td>19.716981</td>\n",
       "      <td>0</td>\n",
       "      <td>Introduction</td>\n",
       "      <td>5</td>\n",
       "      <td>EPQ draft 1 (4844 words)\\nhttps://upload.wikim...</td>\n",
       "      <td>EPQ draft 1 (4844 words)</td>\n",
       "      <td>0</td>\n",
       "      <td>4854</td>\n",
       "      <td>Technology</td>\n",
       "      <td>George Sykes</td>\n",
       "      <td>NaN</td>\n",
       "      <td>93b9e94f08ca</td>\n",
       "      <td>tasty231</td>\n",
       "      <td>30073</td>\n",
       "    </tr>\n",
       "    <tr>\n",
       "      <th>4</th>\n",
       "      <td>en</td>\n",
       "      <td>1000c43bcb97</td>\n",
       "      <td>19.716981</td>\n",
       "      <td>0</td>\n",
       "      <td>Introduction</td>\n",
       "      <td>5</td>\n",
       "      <td>EPQ draft 1 (4844 words)\\nhttps://upload.wikim...</td>\n",
       "      <td>EPQ draft 1 (4844 words)</td>\n",
       "      <td>0</td>\n",
       "      <td>4854</td>\n",
       "      <td>Robotics</td>\n",
       "      <td>George Sykes</td>\n",
       "      <td>NaN</td>\n",
       "      <td>93b9e94f08ca</td>\n",
       "      <td>tasty231</td>\n",
       "      <td>30073</td>\n",
       "    </tr>\n",
       "  </tbody>\n",
       "</table>\n",
       "</div>"
      ],
      "text/plain": [
       "  language        postId  readingTime  recommends  \\\n",
       "0       en  10007d3018fe     0.958491           2   \n",
       "1       en  10007d3018fe     0.958491           2   \n",
       "2       en  10007d3018fe     0.958491           2   \n",
       "3       en  1000c43bcb97    19.716981           0   \n",
       "4       en  1000c43bcb97    19.716981           0   \n",
       "\n",
       "                                            subTitle  tagsCount  \\\n",
       "0  A major private IT company implements blockcha...          5   \n",
       "1  A major private IT company implements blockcha...          5   \n",
       "2  A major private IT company implements blockcha...          5   \n",
       "3                                       Introduction          5   \n",
       "4                                       Introduction          5   \n",
       "\n",
       "                                                text  \\\n",
       "0  Private Business, Government and Blockchain\\n\\...   \n",
       "1  Private Business, Government and Blockchain\\n\\...   \n",
       "2  Private Business, Government and Blockchain\\n\\...   \n",
       "3  EPQ draft 1 (4844 words)\\nhttps://upload.wikim...   \n",
       "4  EPQ draft 1 (4844 words)\\nhttps://upload.wikim...   \n",
       "\n",
       "                                         title  totalClapCount  wordCount  \\\n",
       "0  Private Business, Government and Blockchain             100        201   \n",
       "1  Private Business, Government and Blockchain             100        201   \n",
       "2  Private Business, Government and Blockchain             100        201   \n",
       "3                     EPQ draft 1 (4844 words)               0       4854   \n",
       "4                     EPQ draft 1 (4844 words)               0       4854   \n",
       "\n",
       "     tag_name        author  bio        userId    userName  textLen  \n",
       "0  Blockchain   Anar Babaev  NaN  f1ad85af0169  babaevanar     1244  \n",
       "1     Samsung   Anar Babaev  NaN  f1ad85af0169  babaevanar     1244  \n",
       "2          It   Anar Babaev  NaN  f1ad85af0169  babaevanar     1244  \n",
       "3  Technology  George Sykes  NaN  93b9e94f08ca    tasty231    30073  \n",
       "4    Robotics  George Sykes  NaN  93b9e94f08ca    tasty231    30073  "
      ]
     },
     "execution_count": 7,
     "metadata": {},
     "output_type": "execute_result"
    }
   ],
   "source": [
    "df.head()"
   ]
  },
  {
   "cell_type": "markdown",
   "metadata": {},
   "source": [
    "# Calculating Z-Score for total Claps"
   ]
  },
  {
   "cell_type": "code",
   "execution_count": 8,
   "metadata": {},
   "outputs": [
    {
     "name": "stdout",
     "output_type": "stream",
     "text": [
      "263.0 8.0 1985.3530039583984\n",
      "Z Score:  0    0.046339\n",
      "1    0.046339\n",
      "2    0.046339\n",
      "3   -0.004030\n",
      "4   -0.004030\n",
      "Name: totalClapCount, dtype: float64\n"
     ]
    }
   ],
   "source": [
    "\n",
    "outlierCutoff = np.percentile(df['totalClapCount'], 90)\n",
    "cVector = np.clip(df['totalClapCount'], 0, outlierCutoff)\n",
    "\n",
    "medianScore = np.median(cVector)\n",
    "\n",
    "stdScore = df['totalClapCount'].std()\n",
    "\n",
    "print(outlierCutoff, medianScore, stdScore)\n",
    "zScore = ((cVector - medianScore) / stdScore)\n",
    "print(\"Z Score: \", zScore.head())\n",
    "\n",
    "df['totalClapCount'] = cVector\n",
    "df['clap_zscore'] = zScore\n",
    "\n"
   ]
  },
  {
   "cell_type": "markdown",
   "metadata": {},
   "source": [
    "# Splitting dataset into train and test set"
   ]
  },
  {
   "cell_type": "code",
   "execution_count": 9,
   "metadata": {},
   "outputs": [
    {
     "name": "stdout",
     "output_type": "stream",
     "text": [
      "train sentences 209682 test sentences 69895\n"
     ]
    },
    {
     "data": {
      "text/html": [
       "<div>\n",
       "<style scoped>\n",
       "    .dataframe tbody tr th:only-of-type {\n",
       "        vertical-align: middle;\n",
       "    }\n",
       "\n",
       "    .dataframe tbody tr th {\n",
       "        vertical-align: top;\n",
       "    }\n",
       "\n",
       "    .dataframe thead th {\n",
       "        text-align: right;\n",
       "    }\n",
       "</style>\n",
       "<table border=\"1\" class=\"dataframe\">\n",
       "  <thead>\n",
       "    <tr style=\"text-align: right;\">\n",
       "      <th></th>\n",
       "      <th>language</th>\n",
       "      <th>postId</th>\n",
       "      <th>readingTime</th>\n",
       "      <th>recommends</th>\n",
       "      <th>subTitle</th>\n",
       "      <th>tagsCount</th>\n",
       "      <th>text</th>\n",
       "      <th>title</th>\n",
       "      <th>totalClapCount</th>\n",
       "      <th>wordCount</th>\n",
       "      <th>tag_name</th>\n",
       "      <th>author</th>\n",
       "      <th>bio</th>\n",
       "      <th>userId</th>\n",
       "      <th>userName</th>\n",
       "      <th>textLen</th>\n",
       "      <th>clap_zscore</th>\n",
       "    </tr>\n",
       "  </thead>\n",
       "  <tbody>\n",
       "    <tr>\n",
       "      <th>198641</th>\n",
       "      <td>en</td>\n",
       "      <td>e19dea997312</td>\n",
       "      <td>3.361321</td>\n",
       "      <td>36</td>\n",
       "      <td>What The Foundation can teach us.</td>\n",
       "      <td>5</td>\n",
       "      <td>Sci-Fi, AI and Leadership\\nFrom io9\\nThe Found...</td>\n",
       "      <td>Sci-Fi, AI and Leadership</td>\n",
       "      <td>263.0</td>\n",
       "      <td>745</td>\n",
       "      <td>Leadership</td>\n",
       "      <td>Danilo Pena</td>\n",
       "      <td>Life | Random Thoughts | Data Science | Health...</td>\n",
       "      <td>72469f5805d8</td>\n",
       "      <td>danilopena</td>\n",
       "      <td>4243</td>\n",
       "      <td>0.128441</td>\n",
       "    </tr>\n",
       "    <tr>\n",
       "      <th>125852</th>\n",
       "      <td>en</td>\n",
       "      <td>954edfd20fa8</td>\n",
       "      <td>3.523899</td>\n",
       "      <td>26</td>\n",
       "      <td>As every year, we’ve asked eCommerce Managers ...</td>\n",
       "      <td>5</td>\n",
       "      <td>eCommerce Trends 2018 (backed by real data)\\nA...</td>\n",
       "      <td>eCommerce Trends 2018 (backed by real data)</td>\n",
       "      <td>97.0</td>\n",
       "      <td>713</td>\n",
       "      <td>Startup</td>\n",
       "      <td>Tom Karwatka</td>\n",
       "      <td>CEO @DivanteLTD — eCommerce Software House</td>\n",
       "      <td>5ad461902d03</td>\n",
       "      <td>tomik99</td>\n",
       "      <td>4374</td>\n",
       "      <td>0.044828</td>\n",
       "    </tr>\n",
       "    <tr>\n",
       "      <th>203137</th>\n",
       "      <td>en</td>\n",
       "      <td>e63920f53144</td>\n",
       "      <td>13.934906</td>\n",
       "      <td>12</td>\n",
       "      <td>How perverse incentives have the potential to ...</td>\n",
       "      <td>5</td>\n",
       "      <td>Product Management Ethics In The Age Of Artifi...</td>\n",
       "      <td>Product Management Ethics In The Age Of Artifi...</td>\n",
       "      <td>85.0</td>\n",
       "      <td>3176</td>\n",
       "      <td>Ethics</td>\n",
       "      <td>Drew Dillon</td>\n",
       "      <td>Chief Product Officer at Skedulo</td>\n",
       "      <td>24df326d313e</td>\n",
       "      <td>drewdil</td>\n",
       "      <td>18734</td>\n",
       "      <td>0.038784</td>\n",
       "    </tr>\n",
       "    <tr>\n",
       "      <th>93407</th>\n",
       "      <td>en</td>\n",
       "      <td>7328930d649e</td>\n",
       "      <td>2.739623</td>\n",
       "      <td>0</td>\n",
       "      <td>So I have been reading a lot of stuff on data ...</td>\n",
       "      <td>3</td>\n",
       "      <td>Understanding the k nearest neighbors\\nSo I ha...</td>\n",
       "      <td>Understanding the k nearest neighbors</td>\n",
       "      <td>0.0</td>\n",
       "      <td>726</td>\n",
       "      <td>Machine Learning</td>\n",
       "      <td>Shikhar Srivastava</td>\n",
       "      <td>NaN</td>\n",
       "      <td>511718278c6f</td>\n",
       "      <td>shikhar022</td>\n",
       "      <td>3995</td>\n",
       "      <td>-0.004030</td>\n",
       "    </tr>\n",
       "    <tr>\n",
       "      <th>187357</th>\n",
       "      <td>en</td>\n",
       "      <td>d5d5330443f3</td>\n",
       "      <td>3.611321</td>\n",
       "      <td>0</td>\n",
       "      <td>NaN</td>\n",
       "      <td>3</td>\n",
       "      <td>HubSpot Acquires Motion AI, Hires Scott Brinke...</td>\n",
       "      <td>HubSpot Acquires Motion AI, Hires Scott Brinke...</td>\n",
       "      <td>0.0</td>\n",
       "      <td>904</td>\n",
       "      <td>Marketing</td>\n",
       "      <td>MarTech Advisor</td>\n",
       "      <td>Helping Marketers Succeed</td>\n",
       "      <td>4a1305dc5a36</td>\n",
       "      <td>martechadvisor</td>\n",
       "      <td>5685</td>\n",
       "      <td>-0.004030</td>\n",
       "    </tr>\n",
       "  </tbody>\n",
       "</table>\n",
       "</div>"
      ],
      "text/plain": [
       "       language        postId  readingTime  recommends  \\\n",
       "198641       en  e19dea997312     3.361321          36   \n",
       "125852       en  954edfd20fa8     3.523899          26   \n",
       "203137       en  e63920f53144    13.934906          12   \n",
       "93407        en  7328930d649e     2.739623           0   \n",
       "187357       en  d5d5330443f3     3.611321           0   \n",
       "\n",
       "                                                 subTitle  tagsCount  \\\n",
       "198641                  What The Foundation can teach us.          5   \n",
       "125852  As every year, we’ve asked eCommerce Managers ...          5   \n",
       "203137  How perverse incentives have the potential to ...          5   \n",
       "93407   So I have been reading a lot of stuff on data ...          3   \n",
       "187357                                                NaN          3   \n",
       "\n",
       "                                                     text  \\\n",
       "198641  Sci-Fi, AI and Leadership\\nFrom io9\\nThe Found...   \n",
       "125852  eCommerce Trends 2018 (backed by real data)\\nA...   \n",
       "203137  Product Management Ethics In The Age Of Artifi...   \n",
       "93407   Understanding the k nearest neighbors\\nSo I ha...   \n",
       "187357  HubSpot Acquires Motion AI, Hires Scott Brinke...   \n",
       "\n",
       "                                                    title  totalClapCount  \\\n",
       "198641                          Sci-Fi, AI and Leadership           263.0   \n",
       "125852        eCommerce Trends 2018 (backed by real data)            97.0   \n",
       "203137  Product Management Ethics In The Age Of Artifi...            85.0   \n",
       "93407               Understanding the k nearest neighbors             0.0   \n",
       "187357  HubSpot Acquires Motion AI, Hires Scott Brinke...             0.0   \n",
       "\n",
       "        wordCount          tag_name              author  \\\n",
       "198641        745        Leadership         Danilo Pena   \n",
       "125852        713           Startup        Tom Karwatka   \n",
       "203137       3176            Ethics         Drew Dillon   \n",
       "93407         726  Machine Learning  Shikhar Srivastava   \n",
       "187357        904         Marketing     MarTech Advisor   \n",
       "\n",
       "                                                      bio        userId  \\\n",
       "198641  Life | Random Thoughts | Data Science | Health...  72469f5805d8   \n",
       "125852         CEO @DivanteLTD — eCommerce Software House  5ad461902d03   \n",
       "203137                   Chief Product Officer at Skedulo  24df326d313e   \n",
       "93407                                                 NaN  511718278c6f   \n",
       "187357                          Helping Marketers Succeed  4a1305dc5a36   \n",
       "\n",
       "              userName  textLen  clap_zscore  \n",
       "198641      danilopena     4243     0.128441  \n",
       "125852         tomik99     4374     0.044828  \n",
       "203137         drewdil    18734     0.038784  \n",
       "93407       shikhar022     3995    -0.004030  \n",
       "187357  martechadvisor     5685    -0.004030  "
      ]
     },
     "execution_count": 9,
     "metadata": {},
     "output_type": "execute_result"
    }
   ],
   "source": [
    "train, test = train_test_split(df, random_state = 2019, test_size = 0.25, stratify = pd.qcut(cVector.values, 10, duplicates = 'drop'))\n",
    "\n",
    "print('train sentences', train.shape[0], 'test sentences', test.shape[0])\n",
    "train.sample(5)"
   ]
  },
  {
   "cell_type": "code",
   "execution_count": 10,
   "metadata": {},
   "outputs": [],
   "source": [
    "# defining network parameters\n",
    "maxFeatures = 30000\n",
    "maxLen = 150\n",
    "textField = 'text'"
   ]
  },
  {
   "cell_type": "code",
   "execution_count": 11,
   "metadata": {},
   "outputs": [],
   "source": [
    "listSentencesTrain = train[textField].fillna(\"Invalid\").values\n",
    "listSentencesTest = test[textField].fillna(\"Invalid\").values"
   ]
  },
  {
   "cell_type": "code",
   "execution_count": 12,
   "metadata": {},
   "outputs": [
    {
     "data": {
      "text/plain": [
       "<matplotlib.legend.Legend at 0x1a33764f28>"
      ]
     },
     "execution_count": 12,
     "metadata": {},
     "output_type": "execute_result"
    },
    {
     "data": {
      "image/png": "[encoded data removed]",
      "text/plain": [
       "<Figure size 720x720 with 1 Axes>"
      ]
     },
     "metadata": {},
     "output_type": "display_data"
    }
   ],
   "source": [
    "trainY = train['clap_zscore']\n",
    "testY = test['clap_zscore']\n",
    "\n",
    "fig, ax1 = plt.subplots(1, 1, figsize = (10, 10))\n",
    "\n",
    "ax1.hist(trainY, 10, label = 'Train Scores')\n",
    "ax1.hist(testY, 10, label = 'Test Scores', alpha = 0.5)\n",
    "\n",
    "ax1.legend()"
   ]
  },
  {
   "cell_type": "code",
   "execution_count": 14,
   "metadata": {},
   "outputs": [],
   "source": [
    "tokenizer = text.Tokenizer(num_words = maxFeatures)\n",
    "tokenizer.fit_on_texts(list(listSentencesTrain))\n",
    "\n",
    "# train data\n",
    "listTokenizedTrain = tokenizer.texts_to_sequences(listSentencesTrain)\n",
    "XTrain = sequence.pad_sequences(listTokenizedTrain, maxlen = maxLen)\n",
    "\n",
    "# test data\n",
    "listTokenizedTest = tokenizer.texts_to_sequences(listSentencesTest)\n",
    "XTest = sequence.pad_sequences(listTokenizedTest, maxlen = maxLen)"
   ]
  },
  {
   "cell_type": "markdown",
   "metadata": {},
   "source": [
    "# CNN Model Building"
   ]
  },
  {
   "cell_type": "code",
   "execution_count": 15,
   "metadata": {},
   "outputs": [
    {
     "name": "stdout",
     "output_type": "stream",
     "text": [
      "__________________________________________________________________________________________________\n",
      "Layer (type)                    Output Shape         Param #     Connected to                     \n",
      "==================================================================================================\n",
      "input_1 (InputLayer)            (None, 150)          0                                            \n",
      "__________________________________________________________________________________________________\n",
      "embedding_1 (Embedding)         (None, 150, 128)     3840000     input_1[0][0]                    \n",
      "__________________________________________________________________________________________________\n",
      "dropout_1 (Dropout)             (None, 150, 128)     0           embedding_1[0][0]                \n",
      "__________________________________________________________________________________________________\n",
      "conv1d_1 (Conv1D)               (None, 148, 256)     98560       dropout_1[0][0]                  \n",
      "__________________________________________________________________________________________________\n",
      "conv1d_2 (Conv1D)               (None, 146, 32)      24608       conv1d_1[0][0]                   \n",
      "__________________________________________________________________________________________________\n",
      "conv1d_5 (Conv1D)               (None, 144, 32)      24608       conv1d_1[0][0]                   \n",
      "__________________________________________________________________________________________________\n",
      "conv1d_8 (Conv1D)               (None, 142, 32)      24608       conv1d_1[0][0]                   \n",
      "__________________________________________________________________________________________________\n",
      "conv1d_3 (Conv1D)               (None, 144, 64)      6208        conv1d_2[0][0]                   \n",
      "__________________________________________________________________________________________________\n",
      "conv1d_6 (Conv1D)               (None, 140, 64)      6208        conv1d_5[0][0]                   \n",
      "__________________________________________________________________________________________________\n",
      "conv1d_9 (Conv1D)               (None, 136, 64)      6208        conv1d_8[0][0]                   \n",
      "__________________________________________________________________________________________________\n",
      "conv1d_4 (Conv1D)               (None, 142, 128)     24704       conv1d_3[0][0]                   \n",
      "__________________________________________________________________________________________________\n",
      "conv1d_7 (Conv1D)               (None, 136, 128)     24704       conv1d_6[0][0]                   \n",
      "__________________________________________________________________________________________________\n",
      "conv1d_10 (Conv1D)              (None, 130, 128)     24704       conv1d_9[0][0]                   \n",
      "__________________________________________________________________________________________________\n",
      "global_max_pooling1d_1 (GlobalM (None, 128)          0           conv1d_4[0][0]                   \n",
      "__________________________________________________________________________________________________\n",
      "global_max_pooling1d_2 (GlobalM (None, 128)          0           conv1d_7[0][0]                   \n",
      "__________________________________________________________________________________________________\n",
      "global_max_pooling1d_3 (GlobalM (None, 128)          0           conv1d_10[0][0]                  \n",
      "__________________________________________________________________________________________________\n",
      "dropout_2 (Dropout)             (None, 128)          0           global_max_pooling1d_1[0][0]     \n",
      "__________________________________________________________________________________________________\n",
      "dropout_3 (Dropout)             (None, 128)          0           global_max_pooling1d_2[0][0]     \n",
      "__________________________________________________________________________________________________\n",
      "dropout_4 (Dropout)             (None, 128)          0           global_max_pooling1d_3[0][0]     \n",
      "__________________________________________________________________________________________________\n",
      "concatenate_1 (Concatenate)     (None, 384)          0           dropout_2[0][0]                  \n",
      "                                                                 dropout_3[0][0]                  \n",
      "                                                                 dropout_4[0][0]                  \n",
      "__________________________________________________________________________________________________\n",
      "dense_1 (Dense)                 (None, 50)           19250       concatenate_1[0][0]              \n",
      "__________________________________________________________________________________________________\n",
      "dropout_5 (Dropout)             (None, 50)           0           dense_1[0][0]                    \n",
      "__________________________________________________________________________________________________\n",
      "dense_2 (Dense)                 (None, 1)            51          dropout_5[0][0]                  \n",
      "==================================================================================================\n",
      "Total params: 4,124,421\n",
      "Trainable params: 4,124,421\n",
      "Non-trainable params: 0\n",
      "__________________________________________________________________________________________________\n"
     ]
    }
   ],
   "source": [
    "def buildModel(convLayers = 2, maxDilationRate = 3):\n",
    "    \n",
    "    embedSize = 128\n",
    "    \n",
    "    inp = Input(shape=(maxLen, ))\n",
    "    \n",
    "    x = Embedding(maxFeatures, embedSize)(inp)\n",
    "    x = Dropout(0.25)(x)\n",
    "    \n",
    "    #x = Conv1D(2*embedSize, kernelSize = 3)(x)\n",
    "    \n",
    "    prefilt_x = Conv1D(2*embedSize, kernel_size = 3)(x)\n",
    "    \n",
    "    out_conv = []\n",
    "    \n",
    "    # dilation rate lets us use ngrams and skip grams to process \n",
    "    for dilation_rate in range(maxDilationRate):\n",
    "        x = prefilt_x\n",
    "        for i in range(3):\n",
    "            x = Conv1D(32*2**(i), kernel_size = 3, dilation_rate = dilation_rate+1)(x)    \n",
    "        out_conv += [Dropout(0.5)(GlobalMaxPool1D()(x))]\n",
    "        \n",
    "    x = concatenate(out_conv, axis = -1)    \n",
    "    x = Dense(50, activation=\"relu\")(x)\n",
    "    x = Dropout(0.1)(x)\n",
    "    x = Dense(1, activation=\"tanh\")(x)\n",
    "    \n",
    "    model = Model(inputs=inp, outputs=x)\n",
    "    model.compile(loss='mse', optimizer='adam', metrics=['mean_absolute_error'])\n",
    "\n",
    "    return model\n",
    "\n",
    "model = buildModel()\n",
    "model.summary()\n"
   ]
  },
  {
   "cell_type": "code",
   "execution_count": 17,
   "metadata": {},
   "outputs": [
    {
     "name": "stdout",
     "output_type": "stream",
     "text": [
      "Train on 167745 samples, validate on 41937 samples\n",
      "Epoch 1/1\n",
      "167745/167745 [==============================] - 1291s 8ms/step - loss: 0.0020 - mean_absolute_error: 0.0337 - val_loss: 0.0019 - val_mean_absolute_error: 0.0341\n",
      "\n",
      "Epoch 00001: val_loss improved from inf to 0.00191, saving model to weights.hdf5\n"
     ]
    },
    {
     "data": {
      "text/plain": [
       "<keras.callbacks.History at 0x1a408569b0>"
      ]
     },
     "execution_count": 17,
     "metadata": {},
     "output_type": "execute_result"
    }
   ],
   "source": [
    "batch_size = 32\n",
    "epochs = 1\n",
    "\n",
    "file_path=\"weights.hdf5\"\n",
    "\n",
    "checkpoint = ModelCheckpoint(file_path, monitor='val_loss', verbose=1, save_best_only=True, mode='min')\n",
    "early = EarlyStopping(monitor=\"val_loss\", mode=\"min\", patience=20)\n",
    "\n",
    "callbacks_list = [checkpoint, early] #early\n",
    "model.fit(XTrain, trainY, batch_size=batch_size, epochs=epochs, validation_split=0.2, callbacks=callbacks_list)"
   ]
  },
  {
   "cell_type": "code",
   "execution_count": 18,
   "metadata": {},
   "outputs": [],
   "source": [
    "model.load_weights(file_path)\n",
    "model.save('full_model.h5')"
   ]
  },
  {
   "cell_type": "markdown",
   "metadata": {},
   "source": [
    "# CNN evaluation and prediction"
   ]
  },
  {
   "cell_type": "markdown",
   "metadata": {},
   "source": [
    "loss value & metrics values for the model in test mode."
   ]
  },
  {
   "cell_type": "code",
   "execution_count": 24,
   "metadata": {},
   "outputs": [
    {
     "name": "stdout",
     "output_type": "stream",
     "text": [
      "69895/69895 [==============================] - 97s 1ms/step\n"
     ]
    },
    {
     "data": {
      "text/plain": [
       "[0.0018910235921514578, 0.03395009154763137]"
      ]
     },
     "execution_count": 24,
     "metadata": {},
     "output_type": "execute_result"
    }
   ],
   "source": [
    "model.evaluate(XTest, testY)"
   ]
  },
  {
   "cell_type": "code",
   "execution_count": 25,
   "metadata": {},
   "outputs": [
    {
     "name": "stderr",
     "output_type": "stream",
     "text": [
      "/anaconda3/lib/python3.6/site-packages/ipykernel_launcher.py:1: SettingWithCopyWarning: \n",
      "A value is trying to be set on a copy of a slice from a DataFrame.\n",
      "Try using .loc[row_indexer,col_indexer] = value instead\n",
      "\n",
      "See the caveats in the documentation: http://pandas.pydata.org/pandas-docs/stable/indexing.html#indexing-view-versus-copy\n",
      "  \"\"\"Entry point for launching an IPython kernel.\n"
     ]
    }
   ],
   "source": [
    "test['pred_claps'] = model.predict(XTest) * stdScore + medianScore\n"
   ]
  },
  {
   "cell_type": "code",
   "execution_count": 26,
   "metadata": {},
   "outputs": [],
   "source": [
    "y_pred = model.predict(XTest) "
   ]
  },
  {
   "cell_type": "code",
   "execution_count": 39,
   "metadata": {},
   "outputs": [
    {
     "data": {
      "text/plain": [
       "array([[0.02487026],\n",
       "       [0.02487026],\n",
       "       [0.02487026],\n",
       "       ...,\n",
       "       [0.02487026],\n",
       "       [0.02487026],\n",
       "       [0.02487026]], dtype=float32)"
      ]
     },
     "execution_count": 39,
     "metadata": {},
     "output_type": "execute_result"
    }
   ],
   "source": [
    "y_pred"
   ]
  }
 ],
 "metadata": {
  "kernelspec": {
   "display_name": "Python 3",
   "language": "python",
   "name": "python3"
  },
  "language_info": {
   "codemirror_mode": {
    "name": "ipython",
    "version": 3
   },
   "file_extension": ".py",
   "mimetype": "text/x-python",
   "name": "python",
   "nbconvert_exporter": "python",
   "pygments_lexer": "ipython3",
   "version": "3.6.5"
  }
 },
 "nbformat": 4,
 "nbformat_minor": 2
}
